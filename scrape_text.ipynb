{
 "cells": [
  {
   "cell_type": "code",
   "execution_count": 70,
   "id": "3e6c5213",
   "metadata": {},
   "outputs": [],
   "source": [
    "from bs4 import BeautifulSoup\n",
    "import pandas as pd\n",
    "import requests\n",
    "import re"
   ]
  },
  {
   "cell_type": "markdown",
   "id": "b71809c5",
   "metadata": {},
   "source": [
    "# Scrape all ad texts from urls"
   ]
  },
  {
   "cell_type": "code",
   "execution_count": 47,
   "id": "01a9aaec",
   "metadata": {},
   "outputs": [
    {
     "data": {
      "text/html": [
       "<div>\n",
       "<style scoped>\n",
       "    .dataframe tbody tr th:only-of-type {\n",
       "        vertical-align: middle;\n",
       "    }\n",
       "\n",
       "    .dataframe tbody tr th {\n",
       "        vertical-align: top;\n",
       "    }\n",
       "\n",
       "    .dataframe thead th {\n",
       "        text-align: right;\n",
       "    }\n",
       "</style>\n",
       "<table border=\"1\" class=\"dataframe\">\n",
       "  <thead>\n",
       "    <tr style=\"text-align: right;\">\n",
       "      <th></th>\n",
       "      <th>ad_id</th>\n",
       "      <th>ad_url</th>\n",
       "      <th>ad_type</th>\n",
       "      <th>regions</th>\n",
       "      <th>advertiser_id</th>\n",
       "      <th>advertiser_name</th>\n",
       "      <th>ad_campaigns_list</th>\n",
       "      <th>date_range_start</th>\n",
       "      <th>date_range_end</th>\n",
       "      <th>num_of_days</th>\n",
       "      <th>...</th>\n",
       "      <th>spend_range_min_pln</th>\n",
       "      <th>spend_range_max_pln</th>\n",
       "      <th>spend_range_min_ron</th>\n",
       "      <th>spend_range_max_ron</th>\n",
       "      <th>spend_range_min_sek</th>\n",
       "      <th>spend_range_max_sek</th>\n",
       "      <th>spend_range_min_gbp</th>\n",
       "      <th>spend_range_max_gbp</th>\n",
       "      <th>spend_range_min_nzd</th>\n",
       "      <th>spend_range_max_nzd</th>\n",
       "    </tr>\n",
       "  </thead>\n",
       "  <tbody>\n",
       "    <tr>\n",
       "      <th>0</th>\n",
       "      <td>CR134968385204125696</td>\n",
       "      <td>https://transparencyreport.google.com/politica...</td>\n",
       "      <td>Text</td>\n",
       "      <td>US</td>\n",
       "      <td>AR465982957815857152</td>\n",
       "      <td>LYDIA BEAN FOR CONGRESS</td>\n",
       "      <td>NaN</td>\n",
       "      <td>2021-03-11</td>\n",
       "      <td>2021-05-01</td>\n",
       "      <td>49</td>\n",
       "      <td>...</td>\n",
       "      <td>100</td>\n",
       "      <td>1000.0</td>\n",
       "      <td>750</td>\n",
       "      <td>37500.0</td>\n",
       "      <td>750</td>\n",
       "      <td>7500.0</td>\n",
       "      <td>50</td>\n",
       "      <td>500.0</td>\n",
       "      <td>200</td>\n",
       "      <td>1500.0</td>\n",
       "    </tr>\n",
       "    <tr>\n",
       "      <th>1</th>\n",
       "      <td>CR349206645328314368</td>\n",
       "      <td>https://transparencyreport.google.com/politica...</td>\n",
       "      <td>Image</td>\n",
       "      <td>US</td>\n",
       "      <td>AR221691299693068288</td>\n",
       "      <td>SAHAK NALBANDYAN</td>\n",
       "      <td>NaN</td>\n",
       "      <td>2022-01-12</td>\n",
       "      <td>2022-02-02</td>\n",
       "      <td>22</td>\n",
       "      <td>...</td>\n",
       "      <td>100</td>\n",
       "      <td>1000.0</td>\n",
       "      <td>75</td>\n",
       "      <td>750.0</td>\n",
       "      <td>750</td>\n",
       "      <td>7500.0</td>\n",
       "      <td>50</td>\n",
       "      <td>500.0</td>\n",
       "      <td>0</td>\n",
       "      <td>200.0</td>\n",
       "    </tr>\n",
       "    <tr>\n",
       "      <th>2</th>\n",
       "      <td>CR531379229376380928</td>\n",
       "      <td>https://transparencyreport.google.com/politica...</td>\n",
       "      <td>Text</td>\n",
       "      <td>US</td>\n",
       "      <td>AR279687823638921216</td>\n",
       "      <td>Glenn A. Hegar</td>\n",
       "      <td>NaN</td>\n",
       "      <td>2022-01-05</td>\n",
       "      <td>2022-03-01</td>\n",
       "      <td>47</td>\n",
       "      <td>...</td>\n",
       "      <td>100</td>\n",
       "      <td>1000.0</td>\n",
       "      <td>75</td>\n",
       "      <td>750.0</td>\n",
       "      <td>750</td>\n",
       "      <td>7500.0</td>\n",
       "      <td>50</td>\n",
       "      <td>500.0</td>\n",
       "      <td>0</td>\n",
       "      <td>200.0</td>\n",
       "    </tr>\n",
       "    <tr>\n",
       "      <th>3</th>\n",
       "      <td>CR133689996778405888</td>\n",
       "      <td>https://transparencyreport.google.com/politica...</td>\n",
       "      <td>Image</td>\n",
       "      <td>US</td>\n",
       "      <td>AR140325824329940992</td>\n",
       "      <td>Chad Crow</td>\n",
       "      <td>NaN</td>\n",
       "      <td>2022-02-17</td>\n",
       "      <td>2022-03-01</td>\n",
       "      <td>13</td>\n",
       "      <td>...</td>\n",
       "      <td>100</td>\n",
       "      <td>1000.0</td>\n",
       "      <td>75</td>\n",
       "      <td>750.0</td>\n",
       "      <td>750</td>\n",
       "      <td>7500.0</td>\n",
       "      <td>50</td>\n",
       "      <td>500.0</td>\n",
       "      <td>0</td>\n",
       "      <td>200.0</td>\n",
       "    </tr>\n",
       "    <tr>\n",
       "      <th>4</th>\n",
       "      <td>CR118816009636282368</td>\n",
       "      <td>https://transparencyreport.google.com/politica...</td>\n",
       "      <td>Text</td>\n",
       "      <td>US</td>\n",
       "      <td>AR393003423278039040</td>\n",
       "      <td>CAITLYN JENNER FOR GOVERNOR 2021, INC.</td>\n",
       "      <td>NaN</td>\n",
       "      <td>2021-05-03</td>\n",
       "      <td>2021-05-26</td>\n",
       "      <td>17</td>\n",
       "      <td>...</td>\n",
       "      <td>100</td>\n",
       "      <td>1000.0</td>\n",
       "      <td>750</td>\n",
       "      <td>37500.0</td>\n",
       "      <td>750</td>\n",
       "      <td>7500.0</td>\n",
       "      <td>50</td>\n",
       "      <td>500.0</td>\n",
       "      <td>200</td>\n",
       "      <td>1500.0</td>\n",
       "    </tr>\n",
       "  </tbody>\n",
       "</table>\n",
       "<p>5 rows × 44 columns</p>\n",
       "</div>"
      ],
      "text/plain": [
       "                  ad_id                                             ad_url  \\\n",
       "0  CR134968385204125696  https://transparencyreport.google.com/politica...   \n",
       "1  CR349206645328314368  https://transparencyreport.google.com/politica...   \n",
       "2  CR531379229376380928  https://transparencyreport.google.com/politica...   \n",
       "3  CR133689996778405888  https://transparencyreport.google.com/politica...   \n",
       "4  CR118816009636282368  https://transparencyreport.google.com/politica...   \n",
       "\n",
       "  ad_type regions         advertiser_id  \\\n",
       "0    Text      US  AR465982957815857152   \n",
       "1   Image      US  AR221691299693068288   \n",
       "2    Text      US  AR279687823638921216   \n",
       "3   Image      US  AR140325824329940992   \n",
       "4    Text      US  AR393003423278039040   \n",
       "\n",
       "                          advertiser_name  ad_campaigns_list date_range_start  \\\n",
       "0                 LYDIA BEAN FOR CONGRESS                NaN       2021-03-11   \n",
       "1                        SAHAK NALBANDYAN                NaN       2022-01-12   \n",
       "2                          Glenn A. Hegar                NaN       2022-01-05   \n",
       "3                               Chad Crow                NaN       2022-02-17   \n",
       "4  CAITLYN JENNER FOR GOVERNOR 2021, INC.                NaN       2021-05-03   \n",
       "\n",
       "  date_range_end  num_of_days  ... spend_range_min_pln spend_range_max_pln  \\\n",
       "0     2021-05-01           49  ...                 100              1000.0   \n",
       "1     2022-02-02           22  ...                 100              1000.0   \n",
       "2     2022-03-01           47  ...                 100              1000.0   \n",
       "3     2022-03-01           13  ...                 100              1000.0   \n",
       "4     2021-05-26           17  ...                 100              1000.0   \n",
       "\n",
       "  spend_range_min_ron spend_range_max_ron spend_range_min_sek  \\\n",
       "0                 750             37500.0                 750   \n",
       "1                  75               750.0                 750   \n",
       "2                  75               750.0                 750   \n",
       "3                  75               750.0                 750   \n",
       "4                 750             37500.0                 750   \n",
       "\n",
       "  spend_range_max_sek spend_range_min_gbp spend_range_max_gbp  \\\n",
       "0              7500.0                  50               500.0   \n",
       "1              7500.0                  50               500.0   \n",
       "2              7500.0                  50               500.0   \n",
       "3              7500.0                  50               500.0   \n",
       "4              7500.0                  50               500.0   \n",
       "\n",
       "   spend_range_min_nzd  spend_range_max_nzd  \n",
       "0                  200               1500.0  \n",
       "1                    0                200.0  \n",
       "2                    0                200.0  \n",
       "3                    0                200.0  \n",
       "4                  200               1500.0  \n",
       "\n",
       "[5 rows x 44 columns]"
      ]
     },
     "execution_count": 47,
     "metadata": {},
     "output_type": "execute_result"
    }
   ],
   "source": [
    "# import the data\n",
    "df = pd.read_csv('Texas2021.csv')\n",
    "df = pd.DataFrame(df)\n",
    "df.head()"
   ]
  },
  {
   "cell_type": "code",
   "execution_count": 48,
   "id": "bae40a6a",
   "metadata": {},
   "outputs": [
    {
     "data": {
      "text/plain": [
       "['https://transparencyreport.google.com/political-ads/library/advertiser/AR279687823638921216/creative/CR531379229376380928',\n",
       " 'https://transparencyreport.google.com/political-ads/library/advertiser/AR393003423278039040/creative/CR118816009636282368',\n",
       " 'https://transparencyreport.google.com/political-ads/library/advertiser/AR393003423278039040/creative/CR134265247518162944',\n",
       " 'https://transparencyreport.google.com/political-ads/library/advertiser/AR67037258305241088/creative/CR502092019183648768',\n",
       " 'https://transparencyreport.google.com/political-ads/library/advertiser/AR465982957815857152/creative/CR12089164707135488',\n",
       " 'https://transparencyreport.google.com/political-ads/library/advertiser/AR122301255337902080/creative/CR528988616219688960',\n",
       " 'https://transparencyreport.google.com/political-ads/library/advertiser/AR389693240443404288/creative/CR496800138438639616',\n",
       " 'https://transparencyreport.google.com/political-ads/library/advertiser/AR19054570869096448/creative/CR81964777919741952',\n",
       " 'https://transparencyreport.google.com/political-ads/library/advertiser/AR19439915334893568/creative/CR162678689564196864']"
      ]
     },
     "execution_count": 48,
     "metadata": {},
     "output_type": "execute_result"
    }
   ],
   "source": [
    "# create a list of urls from text ads\n",
    "urls = df[df['ad_type']=='Text']['ad_url'].to_list()\n",
    "urls[1:10]"
   ]
  },
  {
   "cell_type": "code",
   "execution_count": 49,
   "id": "4eef63ef",
   "metadata": {},
   "outputs": [
    {
     "data": {
      "text/plain": [
       "654"
      ]
     },
     "execution_count": 49,
     "metadata": {},
     "output_type": "execute_result"
    }
   ],
   "source": [
    "# chech the number of urls\n",
    "len(urls)"
   ]
  },
  {
   "cell_type": "code",
   "execution_count": 50,
   "id": "6529e03f",
   "metadata": {},
   "outputs": [
    {
     "data": {
      "text/plain": [
       "['https://transparencyreport.google.com/transparencyreport/api/v3/politicalads/creatives/details?entity_id=AR279687823638921216&creative_id=CR531379229376380928&hl=en',\n",
       " 'https://transparencyreport.google.com/transparencyreport/api/v3/politicalads/creatives/details?entity_id=AR393003423278039040&creative_id=CR118816009636282368&hl=en',\n",
       " 'https://transparencyreport.google.com/transparencyreport/api/v3/politicalads/creatives/details?entity_id=AR393003423278039040&creative_id=CR134265247518162944&hl=en',\n",
       " 'https://transparencyreport.google.com/transparencyreport/api/v3/politicalads/creatives/details?entity_id=AR67037258305241088&creative_id=CR502092019183648768&hl=en',\n",
       " 'https://transparencyreport.google.com/transparencyreport/api/v3/politicalads/creatives/details?entity_id=AR465982957815857152&creative_id=CR12089164707135488&hl=en',\n",
       " 'https://transparencyreport.google.com/transparencyreport/api/v3/politicalads/creatives/details?entity_id=AR122301255337902080&creative_id=CR528988616219688960&hl=en',\n",
       " 'https://transparencyreport.google.com/transparencyreport/api/v3/politicalads/creatives/details?entity_id=AR389693240443404288&creative_id=CR496800138438639616&hl=en',\n",
       " 'https://transparencyreport.google.com/transparencyreport/api/v3/politicalads/creatives/details?entity_id=AR19054570869096448&creative_id=CR81964777919741952&hl=en',\n",
       " 'https://transparencyreport.google.com/transparencyreport/api/v3/politicalads/creatives/details?entity_id=AR19439915334893568&creative_id=CR162678689564196864&hl=en']"
      ]
     },
     "execution_count": 50,
     "metadata": {},
     "output_type": "execute_result"
    }
   ],
   "source": [
    "# Google uses a secret API to get the ad texts from ad reports and import them into the ads pages\n",
    "# use entity_id and creative_id to get url for each report\n",
    "report_urls = []\n",
    "for url in urls:\n",
    "    entity_id = url.split('/')[-3]\n",
    "    creative_id = url.split('/')[-1]\n",
    "    report_url = 'https://transparencyreport.google.com/transparencyreport/api/v3/politicalads/creatives/details?entity_id={}&creative_id={}&hl=en'.format(entity_id,creative_id)\n",
    "    report_urls.append(report_url)\n",
    "report_urls[1:10]"
   ]
  },
  {
   "cell_type": "code",
   "execution_count": 51,
   "id": "03d5e78e",
   "metadata": {},
   "outputs": [
    {
     "data": {
      "text/plain": [
       "654"
      ]
     },
     "execution_count": 51,
     "metadata": {},
     "output_type": "execute_result"
    }
   ],
   "source": [
    "# check if the number of the reports matches the number of urls\n",
    "len(report_urls)"
   ]
  },
  {
   "cell_type": "code",
   "execution_count": 52,
   "id": "eac030e6",
   "metadata": {},
   "outputs": [],
   "source": [
    "# now, let's scrape the ads text from each report\n",
    "def get_text(report_url):\n",
    "    response = requests.get(report_url)\n",
    "    text = response.text.split('\"]')[0].split('[')[-1]\n",
    "    return text"
   ]
  },
  {
   "cell_type": "code",
   "execution_count": 53,
   "id": "840098a4",
   "metadata": {},
   "outputs": [],
   "source": [
    "ad_text = []\n",
    "for report_url in report_urls:\n",
    "    text = get_text(report_url)\n",
    "    ad_text.append(text)"
   ]
  },
  {
   "cell_type": "code",
   "execution_count": 54,
   "id": "38af1daa",
   "metadata": {},
   "outputs": [
    {
     "data": {
      "text/plain": [
       "['\"Glenn Hegar is a sixth generation Texan running for Comptroller. Learn more here!',\n",
       " '\"Caitlyn Is The Change California Needs. Donate Now. Don\\'t Wait!\",\"No Time To Waste. Donate To Caitlyn Jenner For Governor.',\n",
       " '\"Get Rid Of Gavin Once And For All. Caitlyn Has A Plan To Save California. Donate Today!\",\"It\\'s Official! Newsom Will Be Recalled. Caitlyn Will Put People Over Politics. Chip In.',\n",
       " '\"Will we join the left to take America backwards, or will this GOP lead America forward?\",\"If we choose the right answer, our country\\'s future is unlimited. Join Rep. Kinzinger now!',\n",
       " '\"Lydia stands for quality schools, more jobs, and protecting us from the climate crisis.\",\"In Washington, she will work across the aisle to give every Texan a fair shot.',\n",
       " '\"The filibuster stands in the way. We need to fix or nix the filibuster. You can help.',\n",
       " '\"This campaign is about what we can achieve when we all come together.\",\"Help define the future of our great state. Join us by making a donation today.',\n",
       " '\"Shawn Lassiter is a former STEM educator and a working mom.\",\"Vote Democrat Shawn Lassiter for Congress in the special election on May 1st!',\n",
       " '\"Gov. Abbott does not stand with Texas women. He voted against a woman\\'s right to choose.\",\"Governor Abbott should keep his hands off our freedoms.']"
      ]
     },
     "execution_count": 54,
     "metadata": {},
     "output_type": "execute_result"
    }
   ],
   "source": [
    "ad_text[1:10]"
   ]
  },
  {
   "cell_type": "code",
   "execution_count": 104,
   "id": "5d233bf0",
   "metadata": {},
   "outputs": [],
   "source": [
    "df_texas = pd.DataFrame(ad_text)"
   ]
  },
  {
   "cell_type": "code",
   "execution_count": 105,
   "id": "b2d71cec",
   "metadata": {},
   "outputs": [],
   "source": [
    "df_texas.rename(columns = {0:'text'},inplace = True)"
   ]
  },
  {
   "cell_type": "markdown",
   "id": "e032c7ef",
   "metadata": {},
   "source": [
    "# Clean the text ads"
   ]
  },
  {
   "cell_type": "code",
   "execution_count": 106,
   "id": "d735a65c",
   "metadata": {},
   "outputs": [
    {
     "data": {
      "text/html": [
       "<div>\n",
       "<style scoped>\n",
       "    .dataframe tbody tr th:only-of-type {\n",
       "        vertical-align: middle;\n",
       "    }\n",
       "\n",
       "    .dataframe tbody tr th {\n",
       "        vertical-align: top;\n",
       "    }\n",
       "\n",
       "    .dataframe thead th {\n",
       "        text-align: right;\n",
       "    }\n",
       "</style>\n",
       "<table border=\"1\" class=\"dataframe\">\n",
       "  <thead>\n",
       "    <tr style=\"text-align: right;\">\n",
       "      <th></th>\n",
       "      <th>text</th>\n",
       "    </tr>\n",
       "  </thead>\n",
       "  <tbody>\n",
       "    <tr>\n",
       "      <th>0</th>\n",
       "      <td>\"Lydia has always stood for what's right, just...</td>\n",
       "    </tr>\n",
       "    <tr>\n",
       "      <th>1</th>\n",
       "      <td>\"Glenn Hegar is a sixth generation Texan runni...</td>\n",
       "    </tr>\n",
       "    <tr>\n",
       "      <th>2</th>\n",
       "      <td>\"Caitlyn Is The Change California Needs. Donat...</td>\n",
       "    </tr>\n",
       "    <tr>\n",
       "      <th>3</th>\n",
       "      <td>\"Get Rid Of Gavin Once And For All. Caitlyn Ha...</td>\n",
       "    </tr>\n",
       "    <tr>\n",
       "      <th>4</th>\n",
       "      <td>\"Will we join the left to take America backwar...</td>\n",
       "    </tr>\n",
       "    <tr>\n",
       "      <th>...</th>\n",
       "      <td>...</td>\n",
       "    </tr>\n",
       "    <tr>\n",
       "      <th>649</th>\n",
       "      <td>\"California Deserves Better. California Deserv...</td>\n",
       "    </tr>\n",
       "    <tr>\n",
       "      <th>650</th>\n",
       "      <td>\"Newsom Recall Is Official! Caitlyn Can Fix Ca...</td>\n",
       "    </tr>\n",
       "    <tr>\n",
       "      <th>651</th>\n",
       "      <td>\"Newsom Recall Is Official! Caitlyn Can Fix Ca...</td>\n",
       "    </tr>\n",
       "    <tr>\n",
       "      <th>652</th>\n",
       "      <td>\"Don't Let Chuck Schumer and Joe Biden Impleme...</td>\n",
       "    </tr>\n",
       "    <tr>\n",
       "      <th>653</th>\n",
       "      <td>\"Become a member of Team Abbott today!\",\"Join ...</td>\n",
       "    </tr>\n",
       "  </tbody>\n",
       "</table>\n",
       "<p>654 rows × 1 columns</p>\n",
       "</div>"
      ],
      "text/plain": [
       "                                                  text\n",
       "0    \"Lydia has always stood for what's right, just...\n",
       "1    \"Glenn Hegar is a sixth generation Texan runni...\n",
       "2    \"Caitlyn Is The Change California Needs. Donat...\n",
       "3    \"Get Rid Of Gavin Once And For All. Caitlyn Ha...\n",
       "4    \"Will we join the left to take America backwar...\n",
       "..                                                 ...\n",
       "649  \"California Deserves Better. California Deserv...\n",
       "650  \"Newsom Recall Is Official! Caitlyn Can Fix Ca...\n",
       "651  \"Newsom Recall Is Official! Caitlyn Can Fix Ca...\n",
       "652  \"Don't Let Chuck Schumer and Joe Biden Impleme...\n",
       "653  \"Become a member of Team Abbott today!\",\"Join ...\n",
       "\n",
       "[654 rows x 1 columns]"
      ]
     },
     "execution_count": 106,
     "metadata": {},
     "output_type": "execute_result"
    }
   ],
   "source": [
    "df_texas"
   ]
  },
  {
   "cell_type": "code",
   "execution_count": 107,
   "id": "660d4571",
   "metadata": {},
   "outputs": [],
   "source": [
    "# check the dataset \n",
    "if df_texas['text'].isnull().sum():\n",
    "    print (df_texas['text'].isnull().sum())\n",
    "    df_texas = df_texas[df_texas['text'].notnull()]\n",
    "    df_texas.reset_index(drop=True,inplace=True)"
   ]
  },
  {
   "cell_type": "code",
   "execution_count": 108,
   "id": "88428e3c",
   "metadata": {},
   "outputs": [],
   "source": [
    "# function that filter the urls and symbols in the text \n",
    "def filter_text(x):\n",
    "    url = 'http[s]?://\\S+'\n",
    "    x = re.sub(url,'',x)\n",
    "    x = re.sub(\"[^\\w\\s]\",' ',x) # filter symbols\n",
    "    x = re.sub(\"\\s+\",' ',x)\n",
    "    \n",
    "    ls=[w.lower() for w in x.split()] \n",
    "    \n",
    "    return ' '.join(ls)"
   ]
  },
  {
   "cell_type": "code",
   "execution_count": 109,
   "id": "6879ae9d",
   "metadata": {},
   "outputs": [
    {
     "data": {
      "text/html": [
       "<div>\n",
       "<style scoped>\n",
       "    .dataframe tbody tr th:only-of-type {\n",
       "        vertical-align: middle;\n",
       "    }\n",
       "\n",
       "    .dataframe tbody tr th {\n",
       "        vertical-align: top;\n",
       "    }\n",
       "\n",
       "    .dataframe thead th {\n",
       "        text-align: right;\n",
       "    }\n",
       "</style>\n",
       "<table border=\"1\" class=\"dataframe\">\n",
       "  <thead>\n",
       "    <tr style=\"text-align: right;\">\n",
       "      <th></th>\n",
       "      <th>text</th>\n",
       "    </tr>\n",
       "  </thead>\n",
       "  <tbody>\n",
       "    <tr>\n",
       "      <th>0</th>\n",
       "      <td>lydia has always stood for what s right just a...</td>\n",
       "    </tr>\n",
       "    <tr>\n",
       "      <th>1</th>\n",
       "      <td>glenn hegar is a sixth generation texan runnin...</td>\n",
       "    </tr>\n",
       "    <tr>\n",
       "      <th>2</th>\n",
       "      <td>caitlyn is the change california needs donate ...</td>\n",
       "    </tr>\n",
       "    <tr>\n",
       "      <th>3</th>\n",
       "      <td>get rid of gavin once and for all caitlyn has ...</td>\n",
       "    </tr>\n",
       "    <tr>\n",
       "      <th>4</th>\n",
       "      <td>will we join the left to take america backward...</td>\n",
       "    </tr>\n",
       "    <tr>\n",
       "      <th>...</th>\n",
       "      <td>...</td>\n",
       "    </tr>\n",
       "    <tr>\n",
       "      <th>649</th>\n",
       "      <td>california deserves better california deserves...</td>\n",
       "    </tr>\n",
       "    <tr>\n",
       "      <th>650</th>\n",
       "      <td>newsom recall is official caitlyn can fix cali...</td>\n",
       "    </tr>\n",
       "    <tr>\n",
       "      <th>651</th>\n",
       "      <td>newsom recall is official caitlyn can fix cali...</td>\n",
       "    </tr>\n",
       "    <tr>\n",
       "      <th>652</th>\n",
       "      <td>don t let chuck schumer and joe biden implemen...</td>\n",
       "    </tr>\n",
       "    <tr>\n",
       "      <th>653</th>\n",
       "      <td>become a member of team abbott today join his ...</td>\n",
       "    </tr>\n",
       "  </tbody>\n",
       "</table>\n",
       "<p>654 rows × 1 columns</p>\n",
       "</div>"
      ],
      "text/plain": [
       "                                                  text\n",
       "0    lydia has always stood for what s right just a...\n",
       "1    glenn hegar is a sixth generation texan runnin...\n",
       "2    caitlyn is the change california needs donate ...\n",
       "3    get rid of gavin once and for all caitlyn has ...\n",
       "4    will we join the left to take america backward...\n",
       "..                                                 ...\n",
       "649  california deserves better california deserves...\n",
       "650  newsom recall is official caitlyn can fix cali...\n",
       "651  newsom recall is official caitlyn can fix cali...\n",
       "652  don t let chuck schumer and joe biden implemen...\n",
       "653  become a member of team abbott today join his ...\n",
       "\n",
       "[654 rows x 1 columns]"
      ]
     },
     "execution_count": 109,
     "metadata": {},
     "output_type": "execute_result"
    }
   ],
   "source": [
    "df_texas['text'] = df_texas['text'].astype(str).apply(lambda x: filter_text(x))\n",
    "df_texas"
   ]
  },
  {
   "cell_type": "code",
   "execution_count": 111,
   "id": "1794b433",
   "metadata": {},
   "outputs": [],
   "source": [
    "# check if there are duplicated texts, if yes, print them out\n",
    "df_texas['text'].value_counts().head(20)"
   ]
  },
  {
   "cell_type": "code",
   "execution_count": 116,
   "id": "c4dbce6c",
   "metadata": {},
   "outputs": [
    {
     "data": {
      "text/plain": [
       "ca has had enough of newsom caitlyn can take back our state donate now help take back california newsom is a disaster donate to make ca red                                      19\n",
       "newsom recall is official caitlyn can fix california donate now did you see the news gavin newsom will be recalled caitlyn can fix ca chip in 5                                  17\n",
       "get rid of gavin once and for all caitlyn has a plan to save california donate today it s official newsom will be recalled caitlyn will put people over politics chip in         13\n",
       "californians deserve leadership who is accountable to them caitlyn will be chip in now caitlyn will fight for you she is an outsider and a proven winner donate now              12\n",
       "caitlyn is an outsider sacramento special interests have no power over her donate now drain the ca swamp newsom is controlled by special interests caitlyn is not donate now     12\n",
       "fed up with one party leadership in ca chip in to fight for everyday californians gavin newsom doesn t offer solutions but caitlyn will ca deserves better donate now            11\n",
       "californians deserve better from their governor caitlyn will fix it donate now gavin newsom orders us to stay home while dining with lobbyists donate now to stop him            11\n",
       "the only place to shop for official caitlyn merchandise browse t shirts hats and more support caitlyn jenner with official caitlyn merchandise                                    8\n",
       "let s make voting simpler more convenient and more accessible vote kurt for clerk in the march 1 democratic primary                                                               8\n",
       "calling all patriots sacramento needs an honest leader with a clear vision donate now here is your chance every dollar counts to get rid of newsom chip in 10                     8\n",
       "sports are about fairness it is unfair for men to compete against females donate now caitlyn will bravely stand up for what is fair stand with her now donate today               8\n",
       "as your senator i describe my job in three words listen learn lead true representative government begins with listening listening to your experiences obser                       7\n",
       "official merchandise for caitlyn for california governor new styles available now support caitlyn jenner with official merchandise                                                7\n",
       "i m campaigning for voter access in the face of statewide voter suppression let s make sure travis county has the shortest lines and highest turnout in texas                     7\n",
       "gavin newsom is a disaster caitlyn is the only outsider who can defeat him chip in now caitlyn will take on the sacramento politicians she will fight for us donate now           6\n",
       "newsom puts politics over progress caitlyn won t donate now we need caitlyn donate now to save california                                                                         6\n",
       "captain sam brown will put duty to country first u0026 will fight to protect the constitution please support captain sam brown for senate by donating 10 or 20 today              6\n",
       "texas                                                                                                                                                                             6\n",
       "stand with captain sam brown let s restore accountability and leadership to washington captain sam brown fought for our country now he is ready to serve the people of nevada     6\n",
       "california is worth fighting for caitlyn will put people before politics caitlyn jenner is in donate to support her campaign for governor                                         6\n",
       "Name: text, dtype: int64"
      ]
     },
     "execution_count": 116,
     "metadata": {},
     "output_type": "execute_result"
    }
   ],
   "source": [
    "df_texas['text'].value_counts().head(20)"
   ]
  },
  {
   "cell_type": "code",
   "execution_count": 91,
   "id": "b0955527",
   "metadata": {},
   "outputs": [],
   "source": [
    "# remove duplicated rows\n",
    "df_texas.drop_duplicates(keep = 'first', inplace = True)\n",
    "df_texas.reset_index(inplace = True,drop = True)"
   ]
  },
  {
   "cell_type": "code",
   "execution_count": 92,
   "id": "11251853",
   "metadata": {},
   "outputs": [],
   "source": []
  },
  {
   "cell_type": "code",
   "execution_count": 93,
   "id": "cfc16d01",
   "metadata": {},
   "outputs": [
    {
     "data": {
      "text/html": [
       "<div>\n",
       "<style scoped>\n",
       "    .dataframe tbody tr th:only-of-type {\n",
       "        vertical-align: middle;\n",
       "    }\n",
       "\n",
       "    .dataframe tbody tr th {\n",
       "        vertical-align: top;\n",
       "    }\n",
       "\n",
       "    .dataframe thead th {\n",
       "        text-align: right;\n",
       "    }\n",
       "</style>\n",
       "<table border=\"1\" class=\"dataframe\">\n",
       "  <thead>\n",
       "    <tr style=\"text-align: right;\">\n",
       "      <th></th>\n",
       "      <th>text</th>\n",
       "    </tr>\n",
       "  </thead>\n",
       "  <tbody>\n",
       "    <tr>\n",
       "      <th>0</th>\n",
       "      <td>lydia has always stood for what s right just a...</td>\n",
       "    </tr>\n",
       "    <tr>\n",
       "      <th>1</th>\n",
       "      <td>glenn hegar is a sixth generation texan runnin...</td>\n",
       "    </tr>\n",
       "    <tr>\n",
       "      <th>2</th>\n",
       "      <td>caitlyn is the change california needs donate ...</td>\n",
       "    </tr>\n",
       "    <tr>\n",
       "      <th>3</th>\n",
       "      <td>get rid of gavin once and for all caitlyn has ...</td>\n",
       "    </tr>\n",
       "    <tr>\n",
       "      <th>4</th>\n",
       "      <td>will we join the left to take america backward...</td>\n",
       "    </tr>\n",
       "    <tr>\n",
       "      <th>...</th>\n",
       "      <td>...</td>\n",
       "    </tr>\n",
       "    <tr>\n",
       "      <th>296</th>\n",
       "      <td>we have to end the biden harris border crisis ...</td>\n",
       "    </tr>\n",
       "    <tr>\n",
       "      <th>297</th>\n",
       "      <td>washington changed lizzie fletcher tell lizzie...</td>\n",
       "    </tr>\n",
       "    <tr>\n",
       "      <th>298</th>\n",
       "      <td>glenn hegar a true conservative defending fait...</td>\n",
       "    </tr>\n",
       "    <tr>\n",
       "      <th>299</th>\n",
       "      <td>donate to the gop today to help us out raise t...</td>\n",
       "    </tr>\n",
       "    <tr>\n",
       "      <th>300</th>\n",
       "      <td>become a member of team abbott today join his ...</td>\n",
       "    </tr>\n",
       "  </tbody>\n",
       "</table>\n",
       "<p>301 rows × 1 columns</p>\n",
       "</div>"
      ],
      "text/plain": [
       "                                                  text\n",
       "0    lydia has always stood for what s right just a...\n",
       "1    glenn hegar is a sixth generation texan runnin...\n",
       "2    caitlyn is the change california needs donate ...\n",
       "3    get rid of gavin once and for all caitlyn has ...\n",
       "4    will we join the left to take america backward...\n",
       "..                                                 ...\n",
       "296  we have to end the biden harris border crisis ...\n",
       "297  washington changed lizzie fletcher tell lizzie...\n",
       "298  glenn hegar a true conservative defending fait...\n",
       "299  donate to the gop today to help us out raise t...\n",
       "300  become a member of team abbott today join his ...\n",
       "\n",
       "[301 rows x 1 columns]"
      ]
     },
     "execution_count": 93,
     "metadata": {},
     "output_type": "execute_result"
    }
   ],
   "source": [
    "df_texas"
   ]
  },
  {
   "cell_type": "code",
   "execution_count": null,
   "id": "ff638311",
   "metadata": {},
   "outputs": [],
   "source": []
  }
 ],
 "metadata": {
  "kernelspec": {
   "display_name": "Python 3 (ipykernel)",
   "language": "python",
   "name": "python3"
  },
  "language_info": {
   "codemirror_mode": {
    "name": "ipython",
    "version": 3
   },
   "file_extension": ".py",
   "mimetype": "text/x-python",
   "name": "python",
   "nbconvert_exporter": "python",
   "pygments_lexer": "ipython3",
   "version": "3.9.10"
  }
 },
 "nbformat": 4,
 "nbformat_minor": 5
}
