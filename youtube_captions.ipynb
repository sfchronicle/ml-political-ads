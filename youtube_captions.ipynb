{
 "cells": [
  {
   "cell_type": "code",
   "execution_count": 1,
   "metadata": {},
   "outputs": [],
   "source": [
    "from youtube_transcript_api import YouTubeTranscriptApi\n",
    "from bs4 import BeautifulSoup\n",
    "import pandas as pd\n",
    "import requests\n",
    "import re\n",
    "import json\n",
    "from helper import *"
   ]
  },
  {
   "cell_type": "code",
   "execution_count": null,
   "metadata": {},
   "outputs": [],
   "source": [
    "ca_video = get_youtube_id('GoogleAds/CA.csv')\n",
    "ca_video_clean = check_video(ca_video)\n",
    "ca_captions = get_captions(ca_video_clean)\n",
    "ca_captions"
   ]
  },
  {
   "cell_type": "code",
   "execution_count": null,
   "metadata": {},
   "outputs": [],
   "source": [
    "tx_video = get_youtube_id('GoogleAds/texas.csv')\n",
    "tx_video_clean = check_video(tx_video)\n",
    "tx_captions = get_captions(tx_video_clean)\n",
    "tx_captions"
   ]
  },
  {
   "cell_type": "code",
   "execution_count": null,
   "metadata": {},
   "outputs": [],
   "source": [
    "ny_video = get_youtube_id('GoogleAds/NY.csv')\n",
    "ny_video_clean = check_video(ny_video)\n",
    "ny_captions = get_captions(ny_video_clean)\n",
    "ny_captions"
   ]
  },
  {
   "cell_type": "code",
   "execution_count": null,
   "metadata": {},
   "outputs": [],
   "source": [
    "ct_video = get_youtube_id('GoogleAds/CT.csv')\n",
    "ct_video_clean = check_video(ct_video)\n",
    "ct_captions = get_captions(ct_video_clean)\n",
    "ct_captions"
   ]
  }
 ],
 "metadata": {
  "interpreter": {
   "hash": "b2373ebc037b6b887ce6ae759e146cfea08225ef87b9ff98319d1ded9ec6eadc"
  },
  "kernelspec": {
   "display_name": "Python 3.10.0 64-bit ('ml-political-ads-gxQjH-2P': pipenv)",
   "name": "python3"
  },
  "language_info": {
   "codemirror_mode": {
    "name": "ipython",
    "version": 3
   },
   "file_extension": ".py",
   "mimetype": "text/x-python",
   "name": "python",
   "nbconvert_exporter": "python",
   "pygments_lexer": "ipython3",
   "version": "3.10.0"
  },
  "orig_nbformat": 4
 },
 "nbformat": 4,
 "nbformat_minor": 2
}
