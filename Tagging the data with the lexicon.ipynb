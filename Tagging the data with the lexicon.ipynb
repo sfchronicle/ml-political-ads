{
 "cells": [
  {
   "cell_type": "code",
   "execution_count": 48,
   "metadata": {},
   "outputs": [],
   "source": [
    "import pandas as pd\n",
    "import numpy as np\n",
    "import re\n",
    "import spacy"
   ]
  },
  {
   "cell_type": "code",
   "execution_count": 49,
   "metadata": {},
   "outputs": [],
   "source": [
    "from spacy.matcher import PhraseMatcher"
   ]
  },
  {
   "cell_type": "code",
   "execution_count": 50,
   "metadata": {},
   "outputs": [],
   "source": [
    "# import spacy.cli\n",
    "# spacy.cli.download(\"en_core_web_lg\")\n",
    "## ref: https://stackoverflow.com/questions/54334304/spacy-cant-find-model-en-core-web-sm-on-windows-10-and-python-3-5-3-anacon"
   ]
  },
  {
   "cell_type": "code",
   "execution_count": 51,
   "metadata": {},
   "outputs": [],
   "source": [
    "# This only happens to Ying that she couldn't import 'en_core_web_sm' in Jupyter Notebook, so she imports it with the full path\n",
    "nlp = spacy.load(\"/usr/local/Cellar/jupyterlab/3.2.9/libexec/lib/python3.9/site-packages/en_core_web_lg/en_core_web_lg-3.2.0/\")"
   ]
  },
  {
   "cell_type": "code",
   "execution_count": 52,
   "metadata": {},
   "outputs": [],
   "source": [
    "# terms would be each list in the dict"
   ]
  },
  {
   "cell_type": "code",
   "execution_count": 53,
   "metadata": {},
   "outputs": [
    {
     "data": {
      "text/html": [
       "<div>\n",
       "<style scoped>\n",
       "    .dataframe tbody tr th:only-of-type {\n",
       "        vertical-align: middle;\n",
       "    }\n",
       "\n",
       "    .dataframe tbody tr th {\n",
       "        vertical-align: top;\n",
       "    }\n",
       "\n",
       "    .dataframe thead th {\n",
       "        text-align: right;\n",
       "    }\n",
       "</style>\n",
       "<table border=\"1\" class=\"dataframe\">\n",
       "  <thead>\n",
       "    <tr style=\"text-align: right;\">\n",
       "      <th></th>\n",
       "      <th>text</th>\n",
       "      <th>Gold Label</th>\n",
       "    </tr>\n",
       "  </thead>\n",
       "  <tbody>\n",
       "    <tr>\n",
       "      <th>0</th>\n",
       "      <td>When President Obama needed a champion for wor...</td>\n",
       "      <td>no topic</td>\n",
       "    </tr>\n",
       "    <tr>\n",
       "      <th>1</th>\n",
       "      <td>When President Obama needed a champion for wor...</td>\n",
       "      <td>no topic</td>\n",
       "    </tr>\n",
       "    <tr>\n",
       "      <th>2</th>\n",
       "      <td>President Obama called Elizabeth “one of the c...</td>\n",
       "      <td>economic</td>\n",
       "    </tr>\n",
       "    <tr>\n",
       "      <th>3</th>\n",
       "      <td>Elizabeth isn’t afraid to stand up to billiona...</td>\n",
       "      <td>no topic</td>\n",
       "    </tr>\n",
       "    <tr>\n",
       "      <th>4</th>\n",
       "      <td>The Nevada caucuses are almost here! \\n\\nThere...</td>\n",
       "      <td>no topic</td>\n",
       "    </tr>\n",
       "    <tr>\n",
       "      <th>5</th>\n",
       "      <td>The Nevada caucuses are almost here! There’s a...</td>\n",
       "      <td>no topic</td>\n",
       "    </tr>\n",
       "    <tr>\n",
       "      <th>6</th>\n",
       "      <td>I’m not afraid to stand up to billionaires and...</td>\n",
       "      <td>no topic</td>\n",
       "    </tr>\n",
       "    <tr>\n",
       "      <th>7</th>\n",
       "      <td>President Obama called Elizabeth “one of the c...</td>\n",
       "      <td>economic</td>\n",
       "    </tr>\n",
       "    <tr>\n",
       "      <th>8</th>\n",
       "      <td>I’m so grateful for the support of this grassr...</td>\n",
       "      <td>no topic</td>\n",
       "    </tr>\n",
       "    <tr>\n",
       "      <th>9</th>\n",
       "      <td>Last quarter, Bernie Sanders, Pete Buttigieg a...</td>\n",
       "      <td>no topic</td>\n",
       "    </tr>\n",
       "    <tr>\n",
       "      <th>10</th>\n",
       "      <td>Last quarter, Bernie Sanders, Pete Buttigieg a...</td>\n",
       "      <td>no topic</td>\n",
       "    </tr>\n",
       "    <tr>\n",
       "      <th>11</th>\n",
       "      <td>For months, Elizabeth has been near or at the ...</td>\n",
       "      <td>no topic</td>\n",
       "    </tr>\n",
       "    <tr>\n",
       "      <th>12</th>\n",
       "      <td>Every one of the Democratic candidates remaini...</td>\n",
       "      <td>no topic</td>\n",
       "    </tr>\n",
       "    <tr>\n",
       "      <th>13</th>\n",
       "      <td>“She came up with an idea for a new, independe...</td>\n",
       "      <td>economic</td>\n",
       "    </tr>\n",
       "    <tr>\n",
       "      <th>14</th>\n",
       "      <td>NaN</td>\n",
       "      <td>no topic</td>\n",
       "    </tr>\n",
       "    <tr>\n",
       "      <th>15</th>\n",
       "      <td>A young woman came up to me after my speech in...</td>\n",
       "      <td>education</td>\n",
       "    </tr>\n",
       "    <tr>\n",
       "      <th>16</th>\n",
       "      <td>The Nevada caucuses are on February 22nd.\\n\\nT...</td>\n",
       "      <td>no topic</td>\n",
       "    </tr>\n",
       "    <tr>\n",
       "      <th>17</th>\n",
       "      <td>The Nevada caucuses are just DAYS away!\\n\\nWit...</td>\n",
       "      <td>no topic</td>\n",
       "    </tr>\n",
       "    <tr>\n",
       "      <th>18</th>\n",
       "      <td>Elizabeth Warren is returning to Nevada! She w...</td>\n",
       "      <td>no topic</td>\n",
       "    </tr>\n",
       "    <tr>\n",
       "      <th>19</th>\n",
       "      <td>Como presidenta, Elizabeth proporcionaría el m...</td>\n",
       "      <td>social programs</td>\n",
       "    </tr>\n",
       "  </tbody>\n",
       "</table>\n",
       "</div>"
      ],
      "text/plain": [
       "                                                 text       Gold Label\n",
       "0   When President Obama needed a champion for wor...         no topic\n",
       "1   When President Obama needed a champion for wor...         no topic\n",
       "2   President Obama called Elizabeth “one of the c...         economic\n",
       "3   Elizabeth isn’t afraid to stand up to billiona...         no topic\n",
       "4   The Nevada caucuses are almost here! \\n\\nThere...         no topic\n",
       "5   The Nevada caucuses are almost here! There’s a...         no topic\n",
       "6   I’m not afraid to stand up to billionaires and...         no topic\n",
       "7   President Obama called Elizabeth “one of the c...         economic\n",
       "8   I’m so grateful for the support of this grassr...         no topic\n",
       "9   Last quarter, Bernie Sanders, Pete Buttigieg a...         no topic\n",
       "10  Last quarter, Bernie Sanders, Pete Buttigieg a...         no topic\n",
       "11  For months, Elizabeth has been near or at the ...         no topic\n",
       "12  Every one of the Democratic candidates remaini...         no topic\n",
       "13  “She came up with an idea for a new, independe...         economic\n",
       "14                                                NaN         no topic\n",
       "15  A young woman came up to me after my speech in...        education\n",
       "16  The Nevada caucuses are on February 22nd.\\n\\nT...         no topic\n",
       "17  The Nevada caucuses are just DAYS away!\\n\\nWit...         no topic\n",
       "18  Elizabeth Warren is returning to Nevada! She w...         no topic\n",
       "19  Como presidenta, Elizabeth proporcionaría el m...  social programs"
      ]
     },
     "execution_count": 53,
     "metadata": {},
     "output_type": "execute_result"
    }
   ],
   "source": [
    "\n",
    "# import the dataset \n",
    "\n",
    "file1 = '2020_FB_Pres_Ads_500_Topic_Gold_v1_test.xlsx'\n",
    "file2 = '2020_FB_Pres_Posts_500_Topic_GOLD_v1_test.xlsx'\n",
    "file3 = '2020_TW_Pres_Posts_500_Topic_Gold_v1_test.xlsx'\n",
    "dirs = 'C:\\\\Users\\\\wangtao\\\\Documents\\\\Illumination\\\\data_set(2020july)\\\\'\n",
    "\n",
    "# df1 = pd.read_excel(dirs+file3)\n",
    "\n",
    "df1 = pd.read_csv('FBtest_1500.csv') # here we import combined the test dataset\n",
    "df1.head(20)"
   ]
  },
  {
   "cell_type": "code",
   "execution_count": 54,
   "metadata": {},
   "outputs": [
    {
     "data": {
      "text/plain": [
       "dict_keys(['covid', 'economic', 'education', 'environment', 'foreign policy', 'governance', 'health', 'immigration', 'military', 'safety', 'social and cultural', 'social programs'])"
      ]
     },
     "execution_count": 54,
     "metadata": {},
     "output_type": "execute_result"
    }
   ],
   "source": [
    "import json \n",
    "with open ('2020_july_lexiconV4_7.json') as f1: # import the latest lexicon\n",
    "    dic1 = json.load(f1)\n",
    "# check the keys\n",
    "dic1.keys()"
   ]
  },
  {
   "cell_type": "code",
   "execution_count": null,
   "metadata": {},
   "outputs": [],
   "source": []
  },
  {
   "cell_type": "code",
   "execution_count": 55,
   "metadata": {},
   "outputs": [
    {
     "data": {
      "text/html": [
       "<div>\n",
       "<style scoped>\n",
       "    .dataframe tbody tr th:only-of-type {\n",
       "        vertical-align: middle;\n",
       "    }\n",
       "\n",
       "    .dataframe tbody tr th {\n",
       "        vertical-align: top;\n",
       "    }\n",
       "\n",
       "    .dataframe thead th {\n",
       "        text-align: right;\n",
       "    }\n",
       "</style>\n",
       "<table border=\"1\" class=\"dataframe\">\n",
       "  <thead>\n",
       "    <tr style=\"text-align: right;\">\n",
       "      <th></th>\n",
       "      <th>text</th>\n",
       "      <th>Gold Label</th>\n",
       "    </tr>\n",
       "  </thead>\n",
       "  <tbody>\n",
       "    <tr>\n",
       "      <th>0</th>\n",
       "      <td>When President Obama needed a champion for wor...</td>\n",
       "      <td>no topic</td>\n",
       "    </tr>\n",
       "    <tr>\n",
       "      <th>1</th>\n",
       "      <td>When President Obama needed a champion for wor...</td>\n",
       "      <td>no topic</td>\n",
       "    </tr>\n",
       "    <tr>\n",
       "      <th>2</th>\n",
       "      <td>President Obama called Elizabeth “one of the c...</td>\n",
       "      <td>economic</td>\n",
       "    </tr>\n",
       "    <tr>\n",
       "      <th>3</th>\n",
       "      <td>Elizabeth isn’t afraid to stand up to billiona...</td>\n",
       "      <td>no topic</td>\n",
       "    </tr>\n",
       "    <tr>\n",
       "      <th>4</th>\n",
       "      <td>The Nevada caucuses are almost here! \\n\\nThere...</td>\n",
       "      <td>no topic</td>\n",
       "    </tr>\n",
       "    <tr>\n",
       "      <th>...</th>\n",
       "      <td>...</td>\n",
       "      <td>...</td>\n",
       "    </tr>\n",
       "    <tr>\n",
       "      <th>1495</th>\n",
       "      <td>Yo invertiría en infraestructura para que pers...</td>\n",
       "      <td>no topic</td>\n",
       "    </tr>\n",
       "    <tr>\n",
       "      <th>1496</th>\n",
       "      <td>“During his Wisconsin out-reach, it became cle...</td>\n",
       "      <td>no topic</td>\n",
       "    </tr>\n",
       "    <tr>\n",
       "      <th>1497</th>\n",
       "      <td>Another endorsement coming out of Iowa today! ...</td>\n",
       "      <td>no topic</td>\n",
       "    </tr>\n",
       "    <tr>\n",
       "      <th>1498</th>\n",
       "      <td>Wow! Thanks everyone for supporting Help Meado...</td>\n",
       "      <td>no topic</td>\n",
       "    </tr>\n",
       "    <tr>\n",
       "      <th>1499</th>\n",
       "      <td>Join us at the Spurs vs. Lakers on November 25...</td>\n",
       "      <td>no topic</td>\n",
       "    </tr>\n",
       "  </tbody>\n",
       "</table>\n",
       "<p>1500 rows × 2 columns</p>\n",
       "</div>"
      ],
      "text/plain": [
       "                                                   text Gold Label\n",
       "0     When President Obama needed a champion for wor...   no topic\n",
       "1     When President Obama needed a champion for wor...   no topic\n",
       "2     President Obama called Elizabeth “one of the c...   economic\n",
       "3     Elizabeth isn’t afraid to stand up to billiona...   no topic\n",
       "4     The Nevada caucuses are almost here! \\n\\nThere...   no topic\n",
       "...                                                 ...        ...\n",
       "1495  Yo invertiría en infraestructura para que pers...   no topic\n",
       "1496  “During his Wisconsin out-reach, it became cle...   no topic\n",
       "1497  Another endorsement coming out of Iowa today! ...   no topic\n",
       "1498  Wow! Thanks everyone for supporting Help Meado...   no topic\n",
       "1499  Join us at the Spurs vs. Lakers on November 25...   no topic\n",
       "\n",
       "[1500 rows x 2 columns]"
      ]
     },
     "execution_count": 55,
     "metadata": {},
     "output_type": "execute_result"
    }
   ],
   "source": [
    "# The column that contains the text should be uniformly renamed as \"text\" \n",
    "df1.rename(columns={'ad_creative_body':'text'}, inplace=True)\n",
    "df1"
   ]
  },
  {
   "cell_type": "code",
   "execution_count": 56,
   "metadata": {},
   "outputs": [],
   "source": [
    "#df1[df1['text'].isnull()]"
   ]
  },
  {
   "cell_type": "code",
   "execution_count": 57,
   "metadata": {},
   "outputs": [
    {
     "name": "stdout",
     "output_type": "stream",
     "text": [
      "1\n"
     ]
    }
   ],
   "source": [
    "# check the dataset \n",
    "if df1['text'].isnull().sum():\n",
    "    print (df1['text'].isnull().sum())\n",
    "    df1 = df1[df1['text'].notnull()]\n",
    "    df1.reset_index(drop=True,inplace=True)"
   ]
  },
  {
   "cell_type": "code",
   "execution_count": 58,
   "metadata": {},
   "outputs": [
    {
     "data": {
      "text/html": [
       "<div>\n",
       "<style scoped>\n",
       "    .dataframe tbody tr th:only-of-type {\n",
       "        vertical-align: middle;\n",
       "    }\n",
       "\n",
       "    .dataframe tbody tr th {\n",
       "        vertical-align: top;\n",
       "    }\n",
       "\n",
       "    .dataframe thead th {\n",
       "        text-align: right;\n",
       "    }\n",
       "</style>\n",
       "<table border=\"1\" class=\"dataframe\">\n",
       "  <thead>\n",
       "    <tr style=\"text-align: right;\">\n",
       "      <th></th>\n",
       "      <th>text</th>\n",
       "      <th>Gold Label</th>\n",
       "    </tr>\n",
       "  </thead>\n",
       "  <tbody>\n",
       "    <tr>\n",
       "      <th>0</th>\n",
       "      <td>When President Obama needed a champion for wor...</td>\n",
       "      <td>no topic</td>\n",
       "    </tr>\n",
       "    <tr>\n",
       "      <th>1</th>\n",
       "      <td>When President Obama needed a champion for wor...</td>\n",
       "      <td>no topic</td>\n",
       "    </tr>\n",
       "    <tr>\n",
       "      <th>2</th>\n",
       "      <td>President Obama called Elizabeth “one of the c...</td>\n",
       "      <td>economic</td>\n",
       "    </tr>\n",
       "    <tr>\n",
       "      <th>3</th>\n",
       "      <td>Elizabeth isn’t afraid to stand up to billiona...</td>\n",
       "      <td>no topic</td>\n",
       "    </tr>\n",
       "    <tr>\n",
       "      <th>4</th>\n",
       "      <td>The Nevada caucuses are almost here! \\n\\nThere...</td>\n",
       "      <td>no topic</td>\n",
       "    </tr>\n",
       "    <tr>\n",
       "      <th>...</th>\n",
       "      <td>...</td>\n",
       "      <td>...</td>\n",
       "    </tr>\n",
       "    <tr>\n",
       "      <th>1494</th>\n",
       "      <td>Yo invertiría en infraestructura para que pers...</td>\n",
       "      <td>no topic</td>\n",
       "    </tr>\n",
       "    <tr>\n",
       "      <th>1495</th>\n",
       "      <td>“During his Wisconsin out-reach, it became cle...</td>\n",
       "      <td>no topic</td>\n",
       "    </tr>\n",
       "    <tr>\n",
       "      <th>1496</th>\n",
       "      <td>Another endorsement coming out of Iowa today! ...</td>\n",
       "      <td>no topic</td>\n",
       "    </tr>\n",
       "    <tr>\n",
       "      <th>1497</th>\n",
       "      <td>Wow! Thanks everyone for supporting Help Meado...</td>\n",
       "      <td>no topic</td>\n",
       "    </tr>\n",
       "    <tr>\n",
       "      <th>1498</th>\n",
       "      <td>Join us at the Spurs vs. Lakers on November 25...</td>\n",
       "      <td>no topic</td>\n",
       "    </tr>\n",
       "  </tbody>\n",
       "</table>\n",
       "<p>1499 rows × 2 columns</p>\n",
       "</div>"
      ],
      "text/plain": [
       "                                                   text Gold Label\n",
       "0     When President Obama needed a champion for wor...   no topic\n",
       "1     When President Obama needed a champion for wor...   no topic\n",
       "2     President Obama called Elizabeth “one of the c...   economic\n",
       "3     Elizabeth isn’t afraid to stand up to billiona...   no topic\n",
       "4     The Nevada caucuses are almost here! \\n\\nThere...   no topic\n",
       "...                                                 ...        ...\n",
       "1494  Yo invertiría en infraestructura para que pers...   no topic\n",
       "1495  “During his Wisconsin out-reach, it became cle...   no topic\n",
       "1496  Another endorsement coming out of Iowa today! ...   no topic\n",
       "1497  Wow! Thanks everyone for supporting Help Meado...   no topic\n",
       "1498  Join us at the Spurs vs. Lakers on November 25...   no topic\n",
       "\n",
       "[1499 rows x 2 columns]"
      ]
     },
     "execution_count": 58,
     "metadata": {},
     "output_type": "execute_result"
    }
   ],
   "source": [
    "df1 # check the dataset"
   ]
  },
  {
   "cell_type": "code",
   "execution_count": 59,
   "metadata": {},
   "outputs": [],
   "source": [
    "# function that filter the urls and symbols in the text \n",
    "def filter_text(x):\n",
    "    url = 'http[s]?://\\S+'\n",
    "    x = re.sub(url,'',x)\n",
    "    x = re.sub(\"[^\\w\\s]\",' ',x) # filter symbols\n",
    "    x = re.sub(\"\\s+\",' ',x)\n",
    "    \n",
    "    ls=[w.lower() for w in x.split()] \n",
    "    \n",
    "    return ' '.join(ls)"
   ]
  },
  {
   "cell_type": "code",
   "execution_count": 60,
   "metadata": {},
   "outputs": [
    {
     "name": "stderr",
     "output_type": "stream",
     "text": [
      "/var/folders/fh/9s8xqf557hxb9jfsjxs123f80000gq/T/ipykernel_468/2351442672.py:1: SettingWithCopyWarning: \n",
      "A value is trying to be set on a copy of a slice from a DataFrame.\n",
      "Try using .loc[row_indexer,col_indexer] = value instead\n",
      "\n",
      "See the caveats in the documentation: https://pandas.pydata.org/pandas-docs/stable/user_guide/indexing.html#returning-a-view-versus-a-copy\n",
      "  df1['text'] = df1['text'].astype(str).apply(lambda x: filter_text(x))\n"
     ]
    },
    {
     "data": {
      "text/html": [
       "<div>\n",
       "<style scoped>\n",
       "    .dataframe tbody tr th:only-of-type {\n",
       "        vertical-align: middle;\n",
       "    }\n",
       "\n",
       "    .dataframe tbody tr th {\n",
       "        vertical-align: top;\n",
       "    }\n",
       "\n",
       "    .dataframe thead th {\n",
       "        text-align: right;\n",
       "    }\n",
       "</style>\n",
       "<table border=\"1\" class=\"dataframe\">\n",
       "  <thead>\n",
       "    <tr style=\"text-align: right;\">\n",
       "      <th></th>\n",
       "      <th>text</th>\n",
       "      <th>Gold Label</th>\n",
       "    </tr>\n",
       "  </thead>\n",
       "  <tbody>\n",
       "    <tr>\n",
       "      <th>0</th>\n",
       "      <td>when president obama needed a champion for wor...</td>\n",
       "      <td>no topic</td>\n",
       "    </tr>\n",
       "    <tr>\n",
       "      <th>1</th>\n",
       "      <td>when president obama needed a champion for wor...</td>\n",
       "      <td>no topic</td>\n",
       "    </tr>\n",
       "    <tr>\n",
       "      <th>2</th>\n",
       "      <td>president obama called elizabeth one of the co...</td>\n",
       "      <td>economic</td>\n",
       "    </tr>\n",
       "    <tr>\n",
       "      <th>3</th>\n",
       "      <td>elizabeth isn t afraid to stand up to billiona...</td>\n",
       "      <td>no topic</td>\n",
       "    </tr>\n",
       "    <tr>\n",
       "      <th>4</th>\n",
       "      <td>the nevada caucuses are almost here there s a ...</td>\n",
       "      <td>no topic</td>\n",
       "    </tr>\n",
       "    <tr>\n",
       "      <th>...</th>\n",
       "      <td>...</td>\n",
       "      <td>...</td>\n",
       "    </tr>\n",
       "    <tr>\n",
       "      <th>1494</th>\n",
       "      <td>yo invertiría en infraestructura para que pers...</td>\n",
       "      <td>no topic</td>\n",
       "    </tr>\n",
       "    <tr>\n",
       "      <th>1495</th>\n",
       "      <td>during his wisconsin out reach it became clear...</td>\n",
       "      <td>no topic</td>\n",
       "    </tr>\n",
       "    <tr>\n",
       "      <th>1496</th>\n",
       "      <td>another endorsement coming out of iowa today l...</td>\n",
       "      <td>no topic</td>\n",
       "    </tr>\n",
       "    <tr>\n",
       "      <th>1497</th>\n",
       "      <td>wow thanks everyone for supporting help meadow...</td>\n",
       "      <td>no topic</td>\n",
       "    </tr>\n",
       "    <tr>\n",
       "      <th>1498</th>\n",
       "      <td>join us at the spurs vs lakers on november 25t...</td>\n",
       "      <td>no topic</td>\n",
       "    </tr>\n",
       "  </tbody>\n",
       "</table>\n",
       "<p>1499 rows × 2 columns</p>\n",
       "</div>"
      ],
      "text/plain": [
       "                                                   text Gold Label\n",
       "0     when president obama needed a champion for wor...   no topic\n",
       "1     when president obama needed a champion for wor...   no topic\n",
       "2     president obama called elizabeth one of the co...   economic\n",
       "3     elizabeth isn t afraid to stand up to billiona...   no topic\n",
       "4     the nevada caucuses are almost here there s a ...   no topic\n",
       "...                                                 ...        ...\n",
       "1494  yo invertiría en infraestructura para que pers...   no topic\n",
       "1495  during his wisconsin out reach it became clear...   no topic\n",
       "1496  another endorsement coming out of iowa today l...   no topic\n",
       "1497  wow thanks everyone for supporting help meadow...   no topic\n",
       "1498  join us at the spurs vs lakers on november 25t...   no topic\n",
       "\n",
       "[1499 rows x 2 columns]"
      ]
     },
     "execution_count": 60,
     "metadata": {},
     "output_type": "execute_result"
    }
   ],
   "source": [
    "df1['text'] = df1['text'].astype(str).apply(lambda x: filter_text(x))\n",
    "df1"
   ]
  },
  {
   "cell_type": "code",
   "execution_count": 61,
   "metadata": {},
   "outputs": [],
   "source": [
    "# import matcher\n",
    "from spacy.matcher import Matcher "
   ]
  },
  {
   "cell_type": "code",
   "execution_count": 62,
   "metadata": {},
   "outputs": [],
   "source": [
    "# # Ying checks if nlp works\n",
    "# words = df1['text'].astype(str).tolist()\n",
    "# doc = nlp(words[1])\n",
    "# doc"
   ]
  },
  {
   "cell_type": "code",
   "execution_count": null,
   "metadata": {},
   "outputs": [],
   "source": []
  },
  {
   "cell_type": "code",
   "execution_count": 63,
   "metadata": {},
   "outputs": [],
   "source": [
    "# #Ying tries to understand how token works\n",
    "# print([token.text for token in doc])"
   ]
  },
  {
   "cell_type": "code",
   "execution_count": 64,
   "metadata": {},
   "outputs": [],
   "source": [
    "# topics = dic1.keys()\n",
    "# for t in topics:\n",
    "#     print(dic1[t])"
   ]
  },
  {
   "cell_type": "code",
   "execution_count": 65,
   "metadata": {},
   "outputs": [],
   "source": [
    "# topics = dic1.keys()\n",
    "# for t in topics:\n",
    "#     matcher = Matcher(nlp.vocab)\n",
    "#     terms = dic1[t]\n",
    "#     for text in terms:\n",
    "#         patterns = nlp.make_doc(text)\n",
    "#         print(patterns)"
   ]
  },
  {
   "cell_type": "code",
   "execution_count": 66,
   "metadata": {},
   "outputs": [],
   "source": [
    "# topics = dic1.keys()\n",
    "# for t in topics:\n",
    "#     matcher = Matcher(nlp.vocab)\n",
    "#     terms = dic1[t]\n",
    "#     patterns = [nlp.make_doc(text) for text in terms]\n",
    "#     matcher.add('TerminologyList',[patterns])\n",
    "#     print(pattern)"
   ]
  },
  {
   "cell_type": "code",
   "execution_count": null,
   "metadata": {},
   "outputs": [],
   "source": []
  },
  {
   "cell_type": "code",
   "execution_count": 67,
   "metadata": {},
   "outputs": [],
   "source": [
    "# the function that find the lexicon words in the text\n",
    "def find_words(x,lexicon):\n",
    "    topics= lexicon.keys()  \n",
    "    doc = nlp(x) # nlp() is spaCy 2.2 English language model \n",
    "    words= []\n",
    "    for t in topics:\n",
    "        matcher = Matcher(nlp.vocab)\n",
    "        terms= lexicon[t]\n",
    "        patterns = [nlp.make_doc(text) for text in terms]\n",
    "        print(patterns)\n",
    "        matcher.add(\"TerminologyList\", [patterns]) # spaCy2.2 phrase matcher\n",
    "        matches = matcher(doc)\n",
    "        for match_id, start,end in matches:\n",
    "            span = doc[start:end]\n",
    "            words.append(span.text)\n",
    "    if words:\n",
    "        words = list(set(words))\n",
    "        return ','.join(words)\n",
    "    else:\n",
    "        return('no words')\n",
    "        "
   ]
  },
  {
   "cell_type": "code",
   "execution_count": 68,
   "metadata": {},
   "outputs": [],
   "source": [
    "# tagging the topic in each message\n",
    "def find_topic(x,lexicon):\n",
    "    topics= lexicon.keys()    \n",
    "    if x=='no words':\n",
    "        return ''    \n",
    "    if x != 'no words': \n",
    "        words = x.split(',')\n",
    "        labels = []        \n",
    "        for t in topics:            \n",
    "            terms = lexicon[t]\n",
    "            if set(words)&set(terms):\n",
    "                labels.append(t)                \n",
    "                #l = sorted(labels)        \n",
    "        return  ','.join(sorted(labels))\n",
    "                \n",
    "        #return ','.join(labels)\n",
    "            "
   ]
  },
  {
   "cell_type": "code",
   "execution_count": 69,
   "metadata": {
    "scrolled": true
   },
   "outputs": [
    {
     "name": "stdout",
     "output_type": "stream",
     "text": [
      "[caronavirus, bed capacity, see collapse economy, panicbuying, evacuee, social distancing, panicshop, ncov, protect working people, world health organization, ppe, mers, sflockdown, national testing strategy, china virus, distancing, ventilators, 14dayquarantine, quarantinelife, chloroquine, chinesevirus, masks, quarantine, ebola, protective equipment, panic shopping, duringmy14dayquarantine, canceleverything, flatten the curve, stay at home, pandemic, wet markets, covidiot, panic shop, shelteringinplace, inmyquarantinesurvivalkit, kungflu, koronavirus, chinavirus, liberate, isolating, ppeshortage, stay home, going see collapse, coronavirus, corona virus, virus, remdesivir, panic buy, corona, sheltering in place, disinfect, flu, n95, quarentinelife, trumppandemic, covid19, stayhomechallenge, screening, nonessential, disinfectants, infuenza, coronavirus pandemic, outbreak, trump pandemic, stayhome, infected patients, restrict travel, vaccine, sinophobia, pandemie, wuhancoronavirus, getmeppe, coronapocalypse, socialdistancing, coronakindness, socialdistancingnow, sars, sanitize, staysafestayhome, stayathome, sars cov 2, sanitizer, stay safe stay home, wuhan, chinese virus, paycheck protection, covidー19, influenza, coronials, sanitiser, stay home challenge, isolation, panic buying, defense production act, covd, paycheckprotectionprogram, dontbeaspreader, saferathome, epitwitter, virtual town hall, wuhanlockdown, medical supplies, cdc, invoke, lock down, flattenthecurve, hydroxychloroquine, panicbuy, self isolate, covid, covid 19, testing]\n"
     ]
    },
    {
     "ename": "MatchPatternError",
     "evalue": "Invalid token patterns for matcher rule 'TerminologyList'\n\nPattern 0:\n- [pattern -> 0] value is not a valid dict\n- [pattern -> 1] value is not a valid dict\n- [pattern -> 2] value is not a valid dict\n- [pattern -> 3] value is not a valid dict\n- [pattern -> 4] value is not a valid dict\n- [pattern -> 5] value is not a valid dict\n- [pattern -> 6] value is not a valid dict\n- [pattern -> 7] value is not a valid dict\n- [pattern -> 8] value is not a valid dict\n- [pattern -> 9] value is not a valid dict\n- [pattern -> 10] value is not a valid dict\n- [pattern -> 11] value is not a valid dict\n- [pattern -> 12] value is not a valid dict\n- [pattern -> 13] value is not a valid dict\n- [pattern -> 14] value is not a valid dict\n- [pattern -> 15] value is not a valid dict\n- [pattern -> 16] value is not a valid dict\n- [pattern -> 17] value is not a valid dict\n- [pattern -> 18] value is not a valid dict\n- [pattern -> 19] value is not a valid dict\n- [pattern -> 20] value is not a valid dict\n- [pattern -> 21] value is not a valid dict\n- [pattern -> 22] value is not a valid dict\n- [pattern -> 23] value is not a valid dict\n- [pattern -> 24] value is not a valid dict\n- [pattern -> 25] value is not a valid dict\n- [pattern -> 26] value is not a valid dict\n- [pattern -> 27] value is not a valid dict\n- [pattern -> 28] value is not a valid dict\n- [pattern -> 29] value is not a valid dict\n- [pattern -> 30] value is not a valid dict\n- [pattern -> 31] value is not a valid dict\n- [pattern -> 32] value is not a valid dict\n- [pattern -> 33] value is not a valid dict\n- [pattern -> 34] value is not a valid dict\n- [pattern -> 35] value is not a valid dict\n- [pattern -> 36] value is not a valid dict\n- [pattern -> 37] value is not a valid dict\n- [pattern -> 38] value is not a valid dict\n- [pattern -> 39] value is not a valid dict\n- [pattern -> 40] value is not a valid dict\n- [pattern -> 41] value is not a valid dict\n- [pattern -> 42] value is not a valid dict\n- [pattern -> 43] value is not a valid dict\n- [pattern -> 44] value is not a valid dict\n- [pattern -> 45] value is not a valid dict\n- [pattern -> 46] value is not a valid dict\n- [pattern -> 47] value is not a valid dict\n- [pattern -> 48] value is not a valid dict\n- [pattern -> 49] value is not a valid dict\n- [pattern -> 50] value is not a valid dict\n- [pattern -> 51] value is not a valid dict\n- [pattern -> 52] value is not a valid dict\n- [pattern -> 53] value is not a valid dict\n- [pattern -> 54] value is not a valid dict\n- [pattern -> 55] value is not a valid dict\n- [pattern -> 56] value is not a valid dict\n- [pattern -> 57] value is not a valid dict\n- [pattern -> 58] value is not a valid dict\n- [pattern -> 59] value is not a valid dict\n- [pattern -> 60] value is not a valid dict\n- [pattern -> 61] value is not a valid dict\n- [pattern -> 62] value is not a valid dict\n- [pattern -> 63] value is not a valid dict\n- [pattern -> 64] value is not a valid dict\n- [pattern -> 65] value is not a valid dict\n- [pattern -> 66] value is not a valid dict\n- [pattern -> 67] value is not a valid dict\n- [pattern -> 68] value is not a valid dict\n- [pattern -> 69] value is not a valid dict\n- [pattern -> 70] value is not a valid dict\n- [pattern -> 71] value is not a valid dict\n- [pattern -> 72] value is not a valid dict\n- [pattern -> 73] value is not a valid dict\n- [pattern -> 74] value is not a valid dict\n- [pattern -> 75] value is not a valid dict\n- [pattern -> 76] value is not a valid dict\n- [pattern -> 77] value is not a valid dict\n- [pattern -> 78] value is not a valid dict\n- [pattern -> 79] value is not a valid dict\n- [pattern -> 80] value is not a valid dict\n- [pattern -> 81] value is not a valid dict\n- [pattern -> 82] value is not a valid dict\n- [pattern -> 83] value is not a valid dict\n- [pattern -> 84] value is not a valid dict\n- [pattern -> 85] value is not a valid dict\n- [pattern -> 86] value is not a valid dict\n- [pattern -> 87] value is not a valid dict\n- [pattern -> 88] value is not a valid dict\n- [pattern -> 89] value is not a valid dict\n- [pattern -> 90] value is not a valid dict\n- [pattern -> 91] value is not a valid dict\n- [pattern -> 92] value is not a valid dict\n- [pattern -> 93] value is not a valid dict\n- [pattern -> 94] value is not a valid dict\n- [pattern -> 95] value is not a valid dict\n- [pattern -> 96] value is not a valid dict\n- [pattern -> 97] value is not a valid dict\n- [pattern -> 98] value is not a valid dict\n- [pattern -> 99] value is not a valid dict\n- [pattern -> 100] value is not a valid dict\n- [pattern -> 101] value is not a valid dict\n- [pattern -> 102] value is not a valid dict\n- [pattern -> 103] value is not a valid dict\n- [pattern -> 104] value is not a valid dict\n- [pattern -> 105] value is not a valid dict\n- [pattern -> 106] value is not a valid dict\n- [pattern -> 107] value is not a valid dict\n- [pattern -> 108] value is not a valid dict\n- [pattern -> 109] value is not a valid dict\n- [pattern -> 110] value is not a valid dict\n- [pattern -> 111] value is not a valid dict\n- [pattern -> 112] value is not a valid dict\n",
     "output_type": "error",
     "traceback": [
      "\u001b[0;31m---------------------------------------------------------------------------\u001b[0m",
      "\u001b[0;31mMatchPatternError\u001b[0m                         Traceback (most recent call last)",
      "Input \u001b[0;32mIn [69]\u001b[0m, in \u001b[0;36m<module>\u001b[0;34m\u001b[0m\n\u001b[0;32m----> 1\u001b[0m df1[\u001b[38;5;124m'\u001b[39m\u001b[38;5;124mwords\u001b[39m\u001b[38;5;124m'\u001b[39m] \u001b[38;5;241m=\u001b[39m \u001b[43mdf1\u001b[49m\u001b[43m[\u001b[49m\u001b[38;5;124;43m'\u001b[39;49m\u001b[38;5;124;43mtext\u001b[39;49m\u001b[38;5;124;43m'\u001b[39;49m\u001b[43m]\u001b[49m\u001b[38;5;241;43m.\u001b[39;49m\u001b[43mastype\u001b[49m\u001b[43m(\u001b[49m\u001b[38;5;28;43mstr\u001b[39;49m\u001b[43m)\u001b[49m\u001b[38;5;241;43m.\u001b[39;49m\u001b[43mapply\u001b[49m\u001b[43m(\u001b[49m\u001b[38;5;28;43;01mlambda\u001b[39;49;00m\u001b[43m \u001b[49m\u001b[43mx\u001b[49m\u001b[43m:\u001b[49m\u001b[43m \u001b[49m\u001b[43mfind_words\u001b[49m\u001b[43m(\u001b[49m\u001b[43mx\u001b[49m\u001b[43m,\u001b[49m\u001b[43mdic1\u001b[49m\u001b[43m)\u001b[49m\u001b[43m)\u001b[49m\n",
      "File \u001b[0;32m/usr/local/Cellar/jupyterlab/3.2.9/libexec/lib/python3.9/site-packages/pandas/core/series.py:4430\u001b[0m, in \u001b[0;36mSeries.apply\u001b[0;34m(self, func, convert_dtype, args, **kwargs)\u001b[0m\n\u001b[1;32m   4320\u001b[0m \u001b[38;5;28;01mdef\u001b[39;00m \u001b[38;5;21mapply\u001b[39m(\n\u001b[1;32m   4321\u001b[0m     \u001b[38;5;28mself\u001b[39m,\n\u001b[1;32m   4322\u001b[0m     func: AggFuncType,\n\u001b[0;32m   (...)\u001b[0m\n\u001b[1;32m   4325\u001b[0m     \u001b[38;5;241m*\u001b[39m\u001b[38;5;241m*\u001b[39mkwargs,\n\u001b[1;32m   4326\u001b[0m ) \u001b[38;5;241m-\u001b[39m\u001b[38;5;241m>\u001b[39m DataFrame \u001b[38;5;241m|\u001b[39m Series:\n\u001b[1;32m   4327\u001b[0m     \u001b[38;5;124;03m\"\"\"\u001b[39;00m\n\u001b[1;32m   4328\u001b[0m \u001b[38;5;124;03m    Invoke function on values of Series.\u001b[39;00m\n\u001b[1;32m   4329\u001b[0m \n\u001b[0;32m   (...)\u001b[0m\n\u001b[1;32m   4428\u001b[0m \u001b[38;5;124;03m    dtype: float64\u001b[39;00m\n\u001b[1;32m   4429\u001b[0m \u001b[38;5;124;03m    \"\"\"\u001b[39;00m\n\u001b[0;32m-> 4430\u001b[0m     \u001b[38;5;28;01mreturn\u001b[39;00m \u001b[43mSeriesApply\u001b[49m\u001b[43m(\u001b[49m\u001b[38;5;28;43mself\u001b[39;49m\u001b[43m,\u001b[49m\u001b[43m \u001b[49m\u001b[43mfunc\u001b[49m\u001b[43m,\u001b[49m\u001b[43m \u001b[49m\u001b[43mconvert_dtype\u001b[49m\u001b[43m,\u001b[49m\u001b[43m \u001b[49m\u001b[43margs\u001b[49m\u001b[43m,\u001b[49m\u001b[43m \u001b[49m\u001b[43mkwargs\u001b[49m\u001b[43m)\u001b[49m\u001b[38;5;241;43m.\u001b[39;49m\u001b[43mapply\u001b[49m\u001b[43m(\u001b[49m\u001b[43m)\u001b[49m\n",
      "File \u001b[0;32m/usr/local/Cellar/jupyterlab/3.2.9/libexec/lib/python3.9/site-packages/pandas/core/apply.py:1082\u001b[0m, in \u001b[0;36mSeriesApply.apply\u001b[0;34m(self)\u001b[0m\n\u001b[1;32m   1078\u001b[0m \u001b[38;5;28;01mif\u001b[39;00m \u001b[38;5;28misinstance\u001b[39m(\u001b[38;5;28mself\u001b[39m\u001b[38;5;241m.\u001b[39mf, \u001b[38;5;28mstr\u001b[39m):\n\u001b[1;32m   1079\u001b[0m     \u001b[38;5;66;03m# if we are a string, try to dispatch\u001b[39;00m\n\u001b[1;32m   1080\u001b[0m     \u001b[38;5;28;01mreturn\u001b[39;00m \u001b[38;5;28mself\u001b[39m\u001b[38;5;241m.\u001b[39mapply_str()\n\u001b[0;32m-> 1082\u001b[0m \u001b[38;5;28;01mreturn\u001b[39;00m \u001b[38;5;28;43mself\u001b[39;49m\u001b[38;5;241;43m.\u001b[39;49m\u001b[43mapply_standard\u001b[49m\u001b[43m(\u001b[49m\u001b[43m)\u001b[49m\n",
      "File \u001b[0;32m/usr/local/Cellar/jupyterlab/3.2.9/libexec/lib/python3.9/site-packages/pandas/core/apply.py:1137\u001b[0m, in \u001b[0;36mSeriesApply.apply_standard\u001b[0;34m(self)\u001b[0m\n\u001b[1;32m   1131\u001b[0m         values \u001b[38;5;241m=\u001b[39m obj\u001b[38;5;241m.\u001b[39mastype(\u001b[38;5;28mobject\u001b[39m)\u001b[38;5;241m.\u001b[39m_values\n\u001b[1;32m   1132\u001b[0m         \u001b[38;5;66;03m# error: Argument 2 to \"map_infer\" has incompatible type\u001b[39;00m\n\u001b[1;32m   1133\u001b[0m         \u001b[38;5;66;03m# \"Union[Callable[..., Any], str, List[Union[Callable[..., Any], str]],\u001b[39;00m\n\u001b[1;32m   1134\u001b[0m         \u001b[38;5;66;03m# Dict[Hashable, Union[Union[Callable[..., Any], str],\u001b[39;00m\n\u001b[1;32m   1135\u001b[0m         \u001b[38;5;66;03m# List[Union[Callable[..., Any], str]]]]]\"; expected\u001b[39;00m\n\u001b[1;32m   1136\u001b[0m         \u001b[38;5;66;03m# \"Callable[[Any], Any]\"\u001b[39;00m\n\u001b[0;32m-> 1137\u001b[0m         mapped \u001b[38;5;241m=\u001b[39m \u001b[43mlib\u001b[49m\u001b[38;5;241;43m.\u001b[39;49m\u001b[43mmap_infer\u001b[49m\u001b[43m(\u001b[49m\n\u001b[1;32m   1138\u001b[0m \u001b[43m            \u001b[49m\u001b[43mvalues\u001b[49m\u001b[43m,\u001b[49m\n\u001b[1;32m   1139\u001b[0m \u001b[43m            \u001b[49m\u001b[43mf\u001b[49m\u001b[43m,\u001b[49m\u001b[43m  \u001b[49m\u001b[38;5;66;43;03m# type: ignore[arg-type]\u001b[39;49;00m\n\u001b[1;32m   1140\u001b[0m \u001b[43m            \u001b[49m\u001b[43mconvert\u001b[49m\u001b[38;5;241;43m=\u001b[39;49m\u001b[38;5;28;43mself\u001b[39;49m\u001b[38;5;241;43m.\u001b[39;49m\u001b[43mconvert_dtype\u001b[49m\u001b[43m,\u001b[49m\n\u001b[1;32m   1141\u001b[0m \u001b[43m        \u001b[49m\u001b[43m)\u001b[49m\n\u001b[1;32m   1143\u001b[0m \u001b[38;5;28;01mif\u001b[39;00m \u001b[38;5;28mlen\u001b[39m(mapped) \u001b[38;5;129;01mand\u001b[39;00m \u001b[38;5;28misinstance\u001b[39m(mapped[\u001b[38;5;241m0\u001b[39m], ABCSeries):\n\u001b[1;32m   1144\u001b[0m     \u001b[38;5;66;03m# GH#43986 Need to do list(mapped) in order to get treated as nested\u001b[39;00m\n\u001b[1;32m   1145\u001b[0m     \u001b[38;5;66;03m#  See also GH#25959 regarding EA support\u001b[39;00m\n\u001b[1;32m   1146\u001b[0m     \u001b[38;5;28;01mreturn\u001b[39;00m obj\u001b[38;5;241m.\u001b[39m_constructor_expanddim(\u001b[38;5;28mlist\u001b[39m(mapped), index\u001b[38;5;241m=\u001b[39mobj\u001b[38;5;241m.\u001b[39mindex)\n",
      "File \u001b[0;32m/usr/local/Cellar/jupyterlab/3.2.9/libexec/lib/python3.9/site-packages/pandas/_libs/lib.pyx:2870\u001b[0m, in \u001b[0;36mpandas._libs.lib.map_infer\u001b[0;34m()\u001b[0m\n",
      "Input \u001b[0;32mIn [69]\u001b[0m, in \u001b[0;36m<lambda>\u001b[0;34m(x)\u001b[0m\n\u001b[0;32m----> 1\u001b[0m df1[\u001b[38;5;124m'\u001b[39m\u001b[38;5;124mwords\u001b[39m\u001b[38;5;124m'\u001b[39m] \u001b[38;5;241m=\u001b[39m df1[\u001b[38;5;124m'\u001b[39m\u001b[38;5;124mtext\u001b[39m\u001b[38;5;124m'\u001b[39m]\u001b[38;5;241m.\u001b[39mastype(\u001b[38;5;28mstr\u001b[39m)\u001b[38;5;241m.\u001b[39mapply(\u001b[38;5;28;01mlambda\u001b[39;00m x: \u001b[43mfind_words\u001b[49m\u001b[43m(\u001b[49m\u001b[43mx\u001b[49m\u001b[43m,\u001b[49m\u001b[43mdic1\u001b[49m\u001b[43m)\u001b[49m)\n",
      "Input \u001b[0;32mIn [67]\u001b[0m, in \u001b[0;36mfind_words\u001b[0;34m(x, lexicon)\u001b[0m\n\u001b[1;32m      9\u001b[0m patterns \u001b[38;5;241m=\u001b[39m [nlp\u001b[38;5;241m.\u001b[39mmake_doc(text) \u001b[38;5;28;01mfor\u001b[39;00m text \u001b[38;5;129;01min\u001b[39;00m terms]\n\u001b[1;32m     10\u001b[0m \u001b[38;5;28mprint\u001b[39m(patterns)\n\u001b[0;32m---> 11\u001b[0m \u001b[43mmatcher\u001b[49m\u001b[38;5;241;43m.\u001b[39;49m\u001b[43madd\u001b[49m\u001b[43m(\u001b[49m\u001b[38;5;124;43m\"\u001b[39;49m\u001b[38;5;124;43mTerminologyList\u001b[39;49m\u001b[38;5;124;43m\"\u001b[39;49m\u001b[43m,\u001b[49m\u001b[43m \u001b[49m\u001b[43m[\u001b[49m\u001b[43mpatterns\u001b[49m\u001b[43m]\u001b[49m\u001b[43m)\u001b[49m \u001b[38;5;66;03m# spaCy2.2 phrase matcher\u001b[39;00m\n\u001b[1;32m     12\u001b[0m matches \u001b[38;5;241m=\u001b[39m matcher(doc)\n\u001b[1;32m     13\u001b[0m \u001b[38;5;28;01mfor\u001b[39;00m match_id, start,end \u001b[38;5;129;01min\u001b[39;00m matches:\n",
      "File \u001b[0;32m/usr/local/Cellar/jupyterlab/3.2.9/libexec/lib/python3.9/site-packages/spacy/matcher/matcher.pyx:122\u001b[0m, in \u001b[0;36mspacy.matcher.matcher.Matcher.add\u001b[0;34m()\u001b[0m\n",
      "\u001b[0;31mMatchPatternError\u001b[0m: Invalid token patterns for matcher rule 'TerminologyList'\n\nPattern 0:\n- [pattern -> 0] value is not a valid dict\n- [pattern -> 1] value is not a valid dict\n- [pattern -> 2] value is not a valid dict\n- [pattern -> 3] value is not a valid dict\n- [pattern -> 4] value is not a valid dict\n- [pattern -> 5] value is not a valid dict\n- [pattern -> 6] value is not a valid dict\n- [pattern -> 7] value is not a valid dict\n- [pattern -> 8] value is not a valid dict\n- [pattern -> 9] value is not a valid dict\n- [pattern -> 10] value is not a valid dict\n- [pattern -> 11] value is not a valid dict\n- [pattern -> 12] value is not a valid dict\n- [pattern -> 13] value is not a valid dict\n- [pattern -> 14] value is not a valid dict\n- [pattern -> 15] value is not a valid dict\n- [pattern -> 16] value is not a valid dict\n- [pattern -> 17] value is not a valid dict\n- [pattern -> 18] value is not a valid dict\n- [pattern -> 19] value is not a valid dict\n- [pattern -> 20] value is not a valid dict\n- [pattern -> 21] value is not a valid dict\n- [pattern -> 22] value is not a valid dict\n- [pattern -> 23] value is not a valid dict\n- [pattern -> 24] value is not a valid dict\n- [pattern -> 25] value is not a valid dict\n- [pattern -> 26] value is not a valid dict\n- [pattern -> 27] value is not a valid dict\n- [pattern -> 28] value is not a valid dict\n- [pattern -> 29] value is not a valid dict\n- [pattern -> 30] value is not a valid dict\n- [pattern -> 31] value is not a valid dict\n- [pattern -> 32] value is not a valid dict\n- [pattern -> 33] value is not a valid dict\n- [pattern -> 34] value is not a valid dict\n- [pattern -> 35] value is not a valid dict\n- [pattern -> 36] value is not a valid dict\n- [pattern -> 37] value is not a valid dict\n- [pattern -> 38] value is not a valid dict\n- [pattern -> 39] value is not a valid dict\n- [pattern -> 40] value is not a valid dict\n- [pattern -> 41] value is not a valid dict\n- [pattern -> 42] value is not a valid dict\n- [pattern -> 43] value is not a valid dict\n- [pattern -> 44] value is not a valid dict\n- [pattern -> 45] value is not a valid dict\n- [pattern -> 46] value is not a valid dict\n- [pattern -> 47] value is not a valid dict\n- [pattern -> 48] value is not a valid dict\n- [pattern -> 49] value is not a valid dict\n- [pattern -> 50] value is not a valid dict\n- [pattern -> 51] value is not a valid dict\n- [pattern -> 52] value is not a valid dict\n- [pattern -> 53] value is not a valid dict\n- [pattern -> 54] value is not a valid dict\n- [pattern -> 55] value is not a valid dict\n- [pattern -> 56] value is not a valid dict\n- [pattern -> 57] value is not a valid dict\n- [pattern -> 58] value is not a valid dict\n- [pattern -> 59] value is not a valid dict\n- [pattern -> 60] value is not a valid dict\n- [pattern -> 61] value is not a valid dict\n- [pattern -> 62] value is not a valid dict\n- [pattern -> 63] value is not a valid dict\n- [pattern -> 64] value is not a valid dict\n- [pattern -> 65] value is not a valid dict\n- [pattern -> 66] value is not a valid dict\n- [pattern -> 67] value is not a valid dict\n- [pattern -> 68] value is not a valid dict\n- [pattern -> 69] value is not a valid dict\n- [pattern -> 70] value is not a valid dict\n- [pattern -> 71] value is not a valid dict\n- [pattern -> 72] value is not a valid dict\n- [pattern -> 73] value is not a valid dict\n- [pattern -> 74] value is not a valid dict\n- [pattern -> 75] value is not a valid dict\n- [pattern -> 76] value is not a valid dict\n- [pattern -> 77] value is not a valid dict\n- [pattern -> 78] value is not a valid dict\n- [pattern -> 79] value is not a valid dict\n- [pattern -> 80] value is not a valid dict\n- [pattern -> 81] value is not a valid dict\n- [pattern -> 82] value is not a valid dict\n- [pattern -> 83] value is not a valid dict\n- [pattern -> 84] value is not a valid dict\n- [pattern -> 85] value is not a valid dict\n- [pattern -> 86] value is not a valid dict\n- [pattern -> 87] value is not a valid dict\n- [pattern -> 88] value is not a valid dict\n- [pattern -> 89] value is not a valid dict\n- [pattern -> 90] value is not a valid dict\n- [pattern -> 91] value is not a valid dict\n- [pattern -> 92] value is not a valid dict\n- [pattern -> 93] value is not a valid dict\n- [pattern -> 94] value is not a valid dict\n- [pattern -> 95] value is not a valid dict\n- [pattern -> 96] value is not a valid dict\n- [pattern -> 97] value is not a valid dict\n- [pattern -> 98] value is not a valid dict\n- [pattern -> 99] value is not a valid dict\n- [pattern -> 100] value is not a valid dict\n- [pattern -> 101] value is not a valid dict\n- [pattern -> 102] value is not a valid dict\n- [pattern -> 103] value is not a valid dict\n- [pattern -> 104] value is not a valid dict\n- [pattern -> 105] value is not a valid dict\n- [pattern -> 106] value is not a valid dict\n- [pattern -> 107] value is not a valid dict\n- [pattern -> 108] value is not a valid dict\n- [pattern -> 109] value is not a valid dict\n- [pattern -> 110] value is not a valid dict\n- [pattern -> 111] value is not a valid dict\n- [pattern -> 112] value is not a valid dict\n"
     ]
    }
   ],
   "source": [
    "df1['words'] = df1['text'].astype(str).apply(lambda x: find_words(x,dic1))"
   ]
  },
  {
   "cell_type": "code",
   "execution_count": 70,
   "metadata": {},
   "outputs": [
    {
     "ename": "KeyError",
     "evalue": "'words'",
     "output_type": "error",
     "traceback": [
      "\u001b[0;31m---------------------------------------------------------------------------\u001b[0m",
      "\u001b[0;31mKeyError\u001b[0m                                  Traceback (most recent call last)",
      "File \u001b[0;32m/usr/local/Cellar/jupyterlab/3.2.9/libexec/lib/python3.9/site-packages/pandas/core/indexes/base.py:3621\u001b[0m, in \u001b[0;36mIndex.get_loc\u001b[0;34m(self, key, method, tolerance)\u001b[0m\n\u001b[1;32m   3620\u001b[0m \u001b[38;5;28;01mtry\u001b[39;00m:\n\u001b[0;32m-> 3621\u001b[0m     \u001b[38;5;28;01mreturn\u001b[39;00m \u001b[38;5;28;43mself\u001b[39;49m\u001b[38;5;241;43m.\u001b[39;49m\u001b[43m_engine\u001b[49m\u001b[38;5;241;43m.\u001b[39;49m\u001b[43mget_loc\u001b[49m\u001b[43m(\u001b[49m\u001b[43mcasted_key\u001b[49m\u001b[43m)\u001b[49m\n\u001b[1;32m   3622\u001b[0m \u001b[38;5;28;01mexcept\u001b[39;00m \u001b[38;5;167;01mKeyError\u001b[39;00m \u001b[38;5;28;01mas\u001b[39;00m err:\n",
      "File \u001b[0;32m/usr/local/Cellar/jupyterlab/3.2.9/libexec/lib/python3.9/site-packages/pandas/_libs/index.pyx:136\u001b[0m, in \u001b[0;36mpandas._libs.index.IndexEngine.get_loc\u001b[0;34m()\u001b[0m\n",
      "File \u001b[0;32m/usr/local/Cellar/jupyterlab/3.2.9/libexec/lib/python3.9/site-packages/pandas/_libs/index.pyx:163\u001b[0m, in \u001b[0;36mpandas._libs.index.IndexEngine.get_loc\u001b[0;34m()\u001b[0m\n",
      "File \u001b[0;32mpandas/_libs/hashtable_class_helper.pxi:5198\u001b[0m, in \u001b[0;36mpandas._libs.hashtable.PyObjectHashTable.get_item\u001b[0;34m()\u001b[0m\n",
      "File \u001b[0;32mpandas/_libs/hashtable_class_helper.pxi:5206\u001b[0m, in \u001b[0;36mpandas._libs.hashtable.PyObjectHashTable.get_item\u001b[0;34m()\u001b[0m\n",
      "\u001b[0;31mKeyError\u001b[0m: 'words'",
      "\nThe above exception was the direct cause of the following exception:\n",
      "\u001b[0;31mKeyError\u001b[0m                                  Traceback (most recent call last)",
      "Input \u001b[0;32mIn [70]\u001b[0m, in \u001b[0;36m<module>\u001b[0;34m\u001b[0m\n\u001b[0;32m----> 1\u001b[0m df1[\u001b[38;5;124m'\u001b[39m\u001b[38;5;124mm_label\u001b[39m\u001b[38;5;124m'\u001b[39m] \u001b[38;5;241m=\u001b[39m \u001b[43mdf1\u001b[49m\u001b[43m[\u001b[49m\u001b[38;5;124;43m'\u001b[39;49m\u001b[38;5;124;43mwords\u001b[39;49m\u001b[38;5;124;43m'\u001b[39;49m\u001b[43m]\u001b[49m\u001b[38;5;241m.\u001b[39mapply(\u001b[38;5;28;01mlambda\u001b[39;00m x: find_topic(x,dic))\n",
      "File \u001b[0;32m/usr/local/Cellar/jupyterlab/3.2.9/libexec/lib/python3.9/site-packages/pandas/core/frame.py:3506\u001b[0m, in \u001b[0;36mDataFrame.__getitem__\u001b[0;34m(self, key)\u001b[0m\n\u001b[1;32m   3504\u001b[0m \u001b[38;5;28;01mif\u001b[39;00m \u001b[38;5;28mself\u001b[39m\u001b[38;5;241m.\u001b[39mcolumns\u001b[38;5;241m.\u001b[39mnlevels \u001b[38;5;241m>\u001b[39m \u001b[38;5;241m1\u001b[39m:\n\u001b[1;32m   3505\u001b[0m     \u001b[38;5;28;01mreturn\u001b[39;00m \u001b[38;5;28mself\u001b[39m\u001b[38;5;241m.\u001b[39m_getitem_multilevel(key)\n\u001b[0;32m-> 3506\u001b[0m indexer \u001b[38;5;241m=\u001b[39m \u001b[38;5;28;43mself\u001b[39;49m\u001b[38;5;241;43m.\u001b[39;49m\u001b[43mcolumns\u001b[49m\u001b[38;5;241;43m.\u001b[39;49m\u001b[43mget_loc\u001b[49m\u001b[43m(\u001b[49m\u001b[43mkey\u001b[49m\u001b[43m)\u001b[49m\n\u001b[1;32m   3507\u001b[0m \u001b[38;5;28;01mif\u001b[39;00m is_integer(indexer):\n\u001b[1;32m   3508\u001b[0m     indexer \u001b[38;5;241m=\u001b[39m [indexer]\n",
      "File \u001b[0;32m/usr/local/Cellar/jupyterlab/3.2.9/libexec/lib/python3.9/site-packages/pandas/core/indexes/base.py:3623\u001b[0m, in \u001b[0;36mIndex.get_loc\u001b[0;34m(self, key, method, tolerance)\u001b[0m\n\u001b[1;32m   3621\u001b[0m     \u001b[38;5;28;01mreturn\u001b[39;00m \u001b[38;5;28mself\u001b[39m\u001b[38;5;241m.\u001b[39m_engine\u001b[38;5;241m.\u001b[39mget_loc(casted_key)\n\u001b[1;32m   3622\u001b[0m \u001b[38;5;28;01mexcept\u001b[39;00m \u001b[38;5;167;01mKeyError\u001b[39;00m \u001b[38;5;28;01mas\u001b[39;00m err:\n\u001b[0;32m-> 3623\u001b[0m     \u001b[38;5;28;01mraise\u001b[39;00m \u001b[38;5;167;01mKeyError\u001b[39;00m(key) \u001b[38;5;28;01mfrom\u001b[39;00m \u001b[38;5;21;01merr\u001b[39;00m\n\u001b[1;32m   3624\u001b[0m \u001b[38;5;28;01mexcept\u001b[39;00m \u001b[38;5;167;01mTypeError\u001b[39;00m:\n\u001b[1;32m   3625\u001b[0m     \u001b[38;5;66;03m# If we have a listlike key, _check_indexing_error will raise\u001b[39;00m\n\u001b[1;32m   3626\u001b[0m     \u001b[38;5;66;03m#  InvalidIndexError. Otherwise we fall through and re-raise\u001b[39;00m\n\u001b[1;32m   3627\u001b[0m     \u001b[38;5;66;03m#  the TypeError.\u001b[39;00m\n\u001b[1;32m   3628\u001b[0m     \u001b[38;5;28mself\u001b[39m\u001b[38;5;241m.\u001b[39m_check_indexing_error(key)\n",
      "\u001b[0;31mKeyError\u001b[0m: 'words'"
     ]
    }
   ],
   "source": [
    "df1['m_label'] = df1['words'].apply(lambda x: find_topic(x,dic))"
   ]
  },
  {
   "cell_type": "code",
   "execution_count": 71,
   "metadata": {},
   "outputs": [
    {
     "ename": "KeyError",
     "evalue": "'m_label'",
     "output_type": "error",
     "traceback": [
      "\u001b[0;31m---------------------------------------------------------------------------\u001b[0m",
      "\u001b[0;31mKeyError\u001b[0m                                  Traceback (most recent call last)",
      "File \u001b[0;32m/usr/local/Cellar/jupyterlab/3.2.9/libexec/lib/python3.9/site-packages/pandas/core/indexes/base.py:3621\u001b[0m, in \u001b[0;36mIndex.get_loc\u001b[0;34m(self, key, method, tolerance)\u001b[0m\n\u001b[1;32m   3620\u001b[0m \u001b[38;5;28;01mtry\u001b[39;00m:\n\u001b[0;32m-> 3621\u001b[0m     \u001b[38;5;28;01mreturn\u001b[39;00m \u001b[38;5;28;43mself\u001b[39;49m\u001b[38;5;241;43m.\u001b[39;49m\u001b[43m_engine\u001b[49m\u001b[38;5;241;43m.\u001b[39;49m\u001b[43mget_loc\u001b[49m\u001b[43m(\u001b[49m\u001b[43mcasted_key\u001b[49m\u001b[43m)\u001b[49m\n\u001b[1;32m   3622\u001b[0m \u001b[38;5;28;01mexcept\u001b[39;00m \u001b[38;5;167;01mKeyError\u001b[39;00m \u001b[38;5;28;01mas\u001b[39;00m err:\n",
      "File \u001b[0;32m/usr/local/Cellar/jupyterlab/3.2.9/libexec/lib/python3.9/site-packages/pandas/_libs/index.pyx:136\u001b[0m, in \u001b[0;36mpandas._libs.index.IndexEngine.get_loc\u001b[0;34m()\u001b[0m\n",
      "File \u001b[0;32m/usr/local/Cellar/jupyterlab/3.2.9/libexec/lib/python3.9/site-packages/pandas/_libs/index.pyx:163\u001b[0m, in \u001b[0;36mpandas._libs.index.IndexEngine.get_loc\u001b[0;34m()\u001b[0m\n",
      "File \u001b[0;32mpandas/_libs/hashtable_class_helper.pxi:5198\u001b[0m, in \u001b[0;36mpandas._libs.hashtable.PyObjectHashTable.get_item\u001b[0;34m()\u001b[0m\n",
      "File \u001b[0;32mpandas/_libs/hashtable_class_helper.pxi:5206\u001b[0m, in \u001b[0;36mpandas._libs.hashtable.PyObjectHashTable.get_item\u001b[0;34m()\u001b[0m\n",
      "\u001b[0;31mKeyError\u001b[0m: 'm_label'",
      "\nThe above exception was the direct cause of the following exception:\n",
      "\u001b[0;31mKeyError\u001b[0m                                  Traceback (most recent call last)",
      "Input \u001b[0;32mIn [71]\u001b[0m, in \u001b[0;36m<module>\u001b[0;34m\u001b[0m\n\u001b[0;32m----> 1\u001b[0m df1[\u001b[38;5;124m'\u001b[39m\u001b[38;5;124mm_label\u001b[39m\u001b[38;5;124m'\u001b[39m] \u001b[38;5;241m=\u001b[39m \u001b[43mdf1\u001b[49m\u001b[43m[\u001b[49m\u001b[38;5;124;43m'\u001b[39;49m\u001b[38;5;124;43mm_label\u001b[39;49m\u001b[38;5;124;43m'\u001b[39;49m\u001b[43m]\u001b[49m\u001b[38;5;241m.\u001b[39mapply(\u001b[38;5;28;01mlambda\u001b[39;00m x: \u001b[38;5;124m'\u001b[39m\u001b[38;5;124mno topic\u001b[39m\u001b[38;5;124m'\u001b[39m \u001b[38;5;28;01mif\u001b[39;00m x\u001b[38;5;241m==\u001b[39m\u001b[38;5;124m'\u001b[39m\u001b[38;5;124m'\u001b[39m \u001b[38;5;28;01melse\u001b[39;00m x)\n",
      "File \u001b[0;32m/usr/local/Cellar/jupyterlab/3.2.9/libexec/lib/python3.9/site-packages/pandas/core/frame.py:3506\u001b[0m, in \u001b[0;36mDataFrame.__getitem__\u001b[0;34m(self, key)\u001b[0m\n\u001b[1;32m   3504\u001b[0m \u001b[38;5;28;01mif\u001b[39;00m \u001b[38;5;28mself\u001b[39m\u001b[38;5;241m.\u001b[39mcolumns\u001b[38;5;241m.\u001b[39mnlevels \u001b[38;5;241m>\u001b[39m \u001b[38;5;241m1\u001b[39m:\n\u001b[1;32m   3505\u001b[0m     \u001b[38;5;28;01mreturn\u001b[39;00m \u001b[38;5;28mself\u001b[39m\u001b[38;5;241m.\u001b[39m_getitem_multilevel(key)\n\u001b[0;32m-> 3506\u001b[0m indexer \u001b[38;5;241m=\u001b[39m \u001b[38;5;28;43mself\u001b[39;49m\u001b[38;5;241;43m.\u001b[39;49m\u001b[43mcolumns\u001b[49m\u001b[38;5;241;43m.\u001b[39;49m\u001b[43mget_loc\u001b[49m\u001b[43m(\u001b[49m\u001b[43mkey\u001b[49m\u001b[43m)\u001b[49m\n\u001b[1;32m   3507\u001b[0m \u001b[38;5;28;01mif\u001b[39;00m is_integer(indexer):\n\u001b[1;32m   3508\u001b[0m     indexer \u001b[38;5;241m=\u001b[39m [indexer]\n",
      "File \u001b[0;32m/usr/local/Cellar/jupyterlab/3.2.9/libexec/lib/python3.9/site-packages/pandas/core/indexes/base.py:3623\u001b[0m, in \u001b[0;36mIndex.get_loc\u001b[0;34m(self, key, method, tolerance)\u001b[0m\n\u001b[1;32m   3621\u001b[0m     \u001b[38;5;28;01mreturn\u001b[39;00m \u001b[38;5;28mself\u001b[39m\u001b[38;5;241m.\u001b[39m_engine\u001b[38;5;241m.\u001b[39mget_loc(casted_key)\n\u001b[1;32m   3622\u001b[0m \u001b[38;5;28;01mexcept\u001b[39;00m \u001b[38;5;167;01mKeyError\u001b[39;00m \u001b[38;5;28;01mas\u001b[39;00m err:\n\u001b[0;32m-> 3623\u001b[0m     \u001b[38;5;28;01mraise\u001b[39;00m \u001b[38;5;167;01mKeyError\u001b[39;00m(key) \u001b[38;5;28;01mfrom\u001b[39;00m \u001b[38;5;21;01merr\u001b[39;00m\n\u001b[1;32m   3624\u001b[0m \u001b[38;5;28;01mexcept\u001b[39;00m \u001b[38;5;167;01mTypeError\u001b[39;00m:\n\u001b[1;32m   3625\u001b[0m     \u001b[38;5;66;03m# If we have a listlike key, _check_indexing_error will raise\u001b[39;00m\n\u001b[1;32m   3626\u001b[0m     \u001b[38;5;66;03m#  InvalidIndexError. Otherwise we fall through and re-raise\u001b[39;00m\n\u001b[1;32m   3627\u001b[0m     \u001b[38;5;66;03m#  the TypeError.\u001b[39;00m\n\u001b[1;32m   3628\u001b[0m     \u001b[38;5;28mself\u001b[39m\u001b[38;5;241m.\u001b[39m_check_indexing_error(key)\n",
      "\u001b[0;31mKeyError\u001b[0m: 'm_label'"
     ]
    }
   ],
   "source": [
    "df1['m_label'] = df1['m_label'].apply(lambda x: 'no topic' if x=='' else x)"
   ]
  },
  {
   "cell_type": "code",
   "execution_count": null,
   "metadata": {},
   "outputs": [],
   "source": []
  }
 ],
 "metadata": {
  "kernelspec": {
   "display_name": "Python 3 (ipykernel)",
   "language": "python",
   "name": "python3"
  },
  "language_info": {
   "codemirror_mode": {
    "name": "ipython",
    "version": 3
   },
   "file_extension": ".py",
   "mimetype": "text/x-python",
   "name": "python",
   "nbconvert_exporter": "python",
   "pygments_lexer": "ipython3",
   "version": "3.9.10"
  }
 },
 "nbformat": 4,
 "nbformat_minor": 2
}
