{
 "cells": [
  {
   "cell_type": "code",
   "execution_count": 76,
   "id": "cf60ad3b",
   "metadata": {},
   "outputs": [],
   "source": [
    "from bs4 import BeautifulSoup\n",
    "import pandas as pd\n",
    "import requests\n",
    "import re\n",
    "import json\n",
    "import spacy\n",
    "from spacy.matcher import PhraseMatcher\n",
    "from ipynb.fs.full.helper import get_text_from_csv,clean_text,check_null,find_words,find_topic,get_word_lable,count_topic,count_word\n"
   ]
  },
  {
   "cell_type": "code",
   "execution_count": null,
   "id": "63205bf3",
   "metadata": {},
   "outputs": [],
   "source": []
  },
  {
   "cell_type": "markdown",
   "id": "45eeb934",
   "metadata": {},
   "source": [
    "# GOOGLE + FACEBOOK"
   ]
  },
  {
   "cell_type": "code",
   "execution_count": null,
   "id": "ddb9c9d4",
   "metadata": {},
   "outputs": [],
   "source": []
  },
  {
   "cell_type": "code",
   "execution_count": 21,
   "id": "cd0fe438",
   "metadata": {},
   "outputs": [
    {
     "data": {
      "text/html": [
       "<div>\n",
       "<style scoped>\n",
       "    .dataframe tbody tr th:only-of-type {\n",
       "        vertical-align: middle;\n",
       "    }\n",
       "\n",
       "    .dataframe tbody tr th {\n",
       "        vertical-align: top;\n",
       "    }\n",
       "\n",
       "    .dataframe thead th {\n",
       "        text-align: right;\n",
       "    }\n",
       "</style>\n",
       "<table border=\"1\" class=\"dataframe\">\n",
       "  <thead>\n",
       "    <tr style=\"text-align: right;\">\n",
       "      <th></th>\n",
       "      <th>ad_id</th>\n",
       "      <th>ad_url</th>\n",
       "      <th>report_url</th>\n",
       "      <th>text</th>\n",
       "    </tr>\n",
       "  </thead>\n",
       "  <tbody>\n",
       "    <tr>\n",
       "      <th>0</th>\n",
       "      <td>CR221162606398799872</td>\n",
       "      <td>https://transparencyreport.google.com/politica...</td>\n",
       "      <td>https://transparencyreport.google.com/transpar...</td>\n",
       "      <td>\"Ad Paid for by Dave Myers for San Diego Count...</td>\n",
       "    </tr>\n",
       "    <tr>\n",
       "      <th>1</th>\n",
       "      <td>CR436752647349862400</td>\n",
       "      <td>https://transparencyreport.google.com/politica...</td>\n",
       "      <td>https://transparencyreport.google.com/transpar...</td>\n",
       "      <td>\"A Broad Coalition of CA Indian Tribes Opposes...</td>\n",
       "    </tr>\n",
       "    <tr>\n",
       "      <th>2</th>\n",
       "      <td>CR149929646081703936</td>\n",
       "      <td>https://transparencyreport.google.com/politica...</td>\n",
       "      <td>https://transparencyreport.google.com/transpar...</td>\n",
       "      <td>\"Take Action: Corp Prop Would Legalize An Expa...</td>\n",
       "    </tr>\n",
       "    <tr>\n",
       "      <th>3</th>\n",
       "      <td>CR548953410917892096</td>\n",
       "      <td>https://transparencyreport.google.com/politica...</td>\n",
       "      <td>https://transparencyreport.google.com/transpar...</td>\n",
       "      <td>\"Stand with Captain Sam Brown. Let's restore a...</td>\n",
       "    </tr>\n",
       "    <tr>\n",
       "      <th>4</th>\n",
       "      <td>CR370192611450814464</td>\n",
       "      <td>https://transparencyreport.google.com/politica...</td>\n",
       "      <td>https://transparencyreport.google.com/transpar...</td>\n",
       "      <td>\"A Broad Coalition of CA Indian Tribes Opposes...</td>\n",
       "    </tr>\n",
       "  </tbody>\n",
       "</table>\n",
       "</div>"
      ],
      "text/plain": [
       "                  ad_id                                             ad_url  \\\n",
       "0  CR221162606398799872  https://transparencyreport.google.com/politica...   \n",
       "1  CR436752647349862400  https://transparencyreport.google.com/politica...   \n",
       "2  CR149929646081703936  https://transparencyreport.google.com/politica...   \n",
       "3  CR548953410917892096  https://transparencyreport.google.com/politica...   \n",
       "4  CR370192611450814464  https://transparencyreport.google.com/politica...   \n",
       "\n",
       "                                          report_url  \\\n",
       "0  https://transparencyreport.google.com/transpar...   \n",
       "1  https://transparencyreport.google.com/transpar...   \n",
       "2  https://transparencyreport.google.com/transpar...   \n",
       "3  https://transparencyreport.google.com/transpar...   \n",
       "4  https://transparencyreport.google.com/transpar...   \n",
       "\n",
       "                                                text  \n",
       "0  \"Ad Paid for by Dave Myers for San Diego Count...  \n",
       "1  \"A Broad Coalition of CA Indian Tribes Opposes...  \n",
       "2  \"Take Action: Corp Prop Would Legalize An Expa...  \n",
       "3  \"Stand with Captain Sam Brown. Let's restore a...  \n",
       "4  \"A Broad Coalition of CA Indian Tribes Opposes...  "
      ]
     },
     "execution_count": 21,
     "metadata": {},
     "output_type": "execute_result"
    }
   ],
   "source": [
    "# read google ads\n",
    "google_df = get_text_from_csv('GoogleAds/CA.csv') \n",
    "google_df.head()"
   ]
  },
  {
   "cell_type": "code",
   "execution_count": 22,
   "id": "48b9ae4e",
   "metadata": {},
   "outputs": [],
   "source": [
    "# read facebook ads\n",
    "facebook_df = pd.read_csv('FacebookAds/california.csv')"
   ]
  },
  {
   "cell_type": "code",
   "execution_count": 23,
   "id": "af825b0b",
   "metadata": {},
   "outputs": [
    {
     "data": {
      "text/html": [
       "<div>\n",
       "<style scoped>\n",
       "    .dataframe tbody tr th:only-of-type {\n",
       "        vertical-align: middle;\n",
       "    }\n",
       "\n",
       "    .dataframe tbody tr th {\n",
       "        vertical-align: top;\n",
       "    }\n",
       "\n",
       "    .dataframe thead th {\n",
       "        text-align: right;\n",
       "    }\n",
       "</style>\n",
       "<table border=\"1\" class=\"dataframe\">\n",
       "  <thead>\n",
       "    <tr style=\"text-align: right;\">\n",
       "      <th></th>\n",
       "      <th>text</th>\n",
       "    </tr>\n",
       "  </thead>\n",
       "  <tbody>\n",
       "    <tr>\n",
       "      <th>0</th>\n",
       "      <td>It is awesome to have the support of the California Nurses Association! What they have been through in this pandemic is unreal… If hospitals are going to continue not paying property taxes they must treat our nurses better!</td>\n",
       "    </tr>\n",
       "    <tr>\n",
       "      <th>1</th>\n",
       "      <td>When the other candidate rides the coat tails of other establishment politicians, I ride in on my experience, dedication and support from the people…. Transparency and Credibility #ad5 #california</td>\n",
       "    </tr>\n",
       "    <tr>\n",
       "      <th>2</th>\n",
       "      <td>Seydi has worked with San Fernando Valley communities for 20 years. She understands the issues we are facing and she's prepared to advocate for us in Sacramento. \\n\\nVote for Seydi because she pledges toward fixing:\\n\\n📌 Homelessness\\n📌 Housing\\n📌 Education\\n📌 Small Business\\n📌 Access to healthcare\\n\\nMost importantly, she pledges to listen to her constituents. Vote for Seydi Alejandra Morales for State Senate District 20 starting May 9th!</td>\n",
       "    </tr>\n",
       "    <tr>\n",
       "      <th>3</th>\n",
       "      <td>Learn more about our efforts to find solutions that will protect our planet while building a more equitable future for CA families.</td>\n",
       "    </tr>\n",
       "    <tr>\n",
       "      <th>4</th>\n",
       "      <td>Special interests like 𝗥𝗲𝗰𝗼𝗹𝗼𝗴𝘆 are exploiting environmental problems for their own profits. \\n\\nThe San Francisco-based garbage and recycling giant was fined $36 million in a public corruption scandal after it admitted to bribery allegations related to overcharging customers $100 million. Don’t let special interests make up for lost profits by raising taxes on California taxpayers.</td>\n",
       "    </tr>\n",
       "    <tr>\n",
       "      <th>...</th>\n",
       "      <td>...</td>\n",
       "    </tr>\n",
       "    <tr>\n",
       "      <th>10043</th>\n",
       "      <td>Help Protect Atkins Place!</td>\n",
       "    </tr>\n",
       "    <tr>\n",
       "      <th>10044</th>\n",
       "      <td>Help Protect Atkins Place!</td>\n",
       "    </tr>\n",
       "    <tr>\n",
       "      <th>10045</th>\n",
       "      <td>Help Protect Atkins Place!</td>\n",
       "    </tr>\n",
       "    <tr>\n",
       "      <th>10046</th>\n",
       "      <td>Help Protect Atkins Place!</td>\n",
       "    </tr>\n",
       "    <tr>\n",
       "      <th>10047</th>\n",
       "      <td>Help Protect Atkins Place!</td>\n",
       "    </tr>\n",
       "  </tbody>\n",
       "</table>\n",
       "<p>10048 rows × 1 columns</p>\n",
       "</div>"
      ],
      "text/plain": [
       "                                                                                                                                                                                                                                                                                                                                                                                                                                                              text\n",
       "0                                                                                                                                                                                                                                  It is awesome to have the support of the California Nurses Association! What they have been through in this pandemic is unreal… If hospitals are going to continue not paying property taxes they must treat our nurses better!\n",
       "1                                                                                                                                                                                                                                                             When the other candidate rides the coat tails of other establishment politicians, I ride in on my experience, dedication and support from the people…. Transparency and Credibility #ad5 #california\n",
       "2      Seydi has worked with San Fernando Valley communities for 20 years. She understands the issues we are facing and she's prepared to advocate for us in Sacramento. \\n\\nVote for Seydi because she pledges toward fixing:\\n\\n📌 Homelessness\\n📌 Housing\\n📌 Education\\n📌 Small Business\\n📌 Access to healthcare\\n\\nMost importantly, she pledges to listen to her constituents. Vote for Seydi Alejandra Morales for State Senate District 20 starting May 9th!\n",
       "3                                                                                                                                                                                                                                                                                                                              Learn more about our efforts to find solutions that will protect our planet while building a more equitable future for CA families.\n",
       "4                                                                Special interests like 𝗥𝗲𝗰𝗼𝗹𝗼𝗴𝘆 are exploiting environmental problems for their own profits. \\n\\nThe San Francisco-based garbage and recycling giant was fined $36 million in a public corruption scandal after it admitted to bribery allegations related to overcharging customers $100 million. Don’t let special interests make up for lost profits by raising taxes on California taxpayers.\n",
       "...                                                                                                                                                                                                                                                                                                                                                                                                                                                            ...\n",
       "10043                                                                                                                                                                                                                                                                                                                                                                                                                                   Help Protect Atkins Place!\n",
       "10044                                                                                                                                                                                                                                                                                                                                                                                                                                   Help Protect Atkins Place!\n",
       "10045                                                                                                                                                                                                                                                                                                                                                                                                                                   Help Protect Atkins Place!\n",
       "10046                                                                                                                                                                                                                                                                                                                                                                                                                                   Help Protect Atkins Place!\n",
       "10047                                                                                                                                                                                                                                                                                                                                                                                                                                   Help Protect Atkins Place!\n",
       "\n",
       "[10048 rows x 1 columns]"
      ]
     },
     "execution_count": 23,
     "metadata": {},
     "output_type": "execute_result"
    }
   ],
   "source": [
    "# only keep text column\n",
    "facebook_df.drop(columns = ['Unnamed: 0','byline'],inplace = True)\n",
    "pd.set_option('display.max_colwidth', None)\n",
    "facebook_df"
   ]
  },
  {
   "cell_type": "code",
   "execution_count": 24,
   "id": "bdb7e93d",
   "metadata": {},
   "outputs": [
    {
     "name": "stdout",
     "output_type": "stream",
     "text": [
      "<class 'pandas.core.frame.DataFrame'>\n",
      "Int64Index: 10198 entries, 0 to 10047\n",
      "Data columns (total 4 columns):\n",
      " #   Column      Non-Null Count  Dtype \n",
      "---  ------      --------------  ----- \n",
      " 0   ad_id       150 non-null    object\n",
      " 1   ad_url      150 non-null    object\n",
      " 2   report_url  150 non-null    object\n",
      " 3   text        10196 non-null  object\n",
      "dtypes: object(4)\n",
      "memory usage: 398.4+ KB\n"
     ]
    }
   ],
   "source": [
    "# cncat google_df and facebook_df by 'text'\n",
    "df_text = pd.concat([google_df,facebook_df])\n",
    "df_text.info()"
   ]
  },
  {
   "cell_type": "code",
   "execution_count": 25,
   "id": "ba8b05ce",
   "metadata": {},
   "outputs": [
    {
     "data": {
      "text/html": [
       "<div>\n",
       "<style scoped>\n",
       "    .dataframe tbody tr th:only-of-type {\n",
       "        vertical-align: middle;\n",
       "    }\n",
       "\n",
       "    .dataframe tbody tr th {\n",
       "        vertical-align: top;\n",
       "    }\n",
       "\n",
       "    .dataframe thead th {\n",
       "        text-align: right;\n",
       "    }\n",
       "</style>\n",
       "<table border=\"1\" class=\"dataframe\">\n",
       "  <thead>\n",
       "    <tr style=\"text-align: right;\">\n",
       "      <th></th>\n",
       "      <th>ad_id</th>\n",
       "      <th>ad_url</th>\n",
       "      <th>report_url</th>\n",
       "      <th>text</th>\n",
       "    </tr>\n",
       "  </thead>\n",
       "  <tbody>\n",
       "    <tr>\n",
       "      <th>0</th>\n",
       "      <td>CR221162606398799872</td>\n",
       "      <td>https://transparencyreport.google.com/political-ads/library/advertiser/AR206807382586556416/creative/CR221162606398799872</td>\n",
       "      <td>https://transparencyreport.google.com/transparencyreport/api/v3/politicalads/creatives/details?entity_id=AR206807382586556416&amp;creative_id=CR221162606398799872&amp;hl=en</td>\n",
       "      <td>\"Ad Paid for by Dave Myers for San Diego County Sheriff 2022 | FPPC ID # 1436219\",\"Don't Settle for the Status Quo! Elect Dave Myers for Sheriff come June 7th, 2022!</td>\n",
       "    </tr>\n",
       "    <tr>\n",
       "      <th>1</th>\n",
       "      <td>CR436752647349862400</td>\n",
       "      <td>https://transparencyreport.google.com/political-ads/library/advertiser/AR440853413404606464/creative/CR436752647349862400</td>\n",
       "      <td>https://transparencyreport.google.com/transparencyreport/api/v3/politicalads/creatives/details?entity_id=AR440853413404606464&amp;creative_id=CR436752647349862400&amp;hl=en</td>\n",
       "      <td>\"A Broad Coalition of CA Indian Tribes Opposes This Online Gambling Prop. Learn More.\",\"Stop The Deceptive Corp Prop: Would Turn Every Screen Into A Gambling Device. Learn More.</td>\n",
       "    </tr>\n",
       "    <tr>\n",
       "      <th>2</th>\n",
       "      <td>CR149929646081703936</td>\n",
       "      <td>https://transparencyreport.google.com/political-ads/library/advertiser/AR440853413404606464/creative/CR149929646081703936</td>\n",
       "      <td>https://transparencyreport.google.com/transparencyreport/api/v3/politicalads/creatives/details?entity_id=AR440853413404606464&amp;creative_id=CR149929646081703936&amp;hl=en</td>\n",
       "      <td>\"Take Action: Corp Prop Would Legalize An Expansion of Online Sports Gambling in CA.\",\"Stop The Deceptive Corp Prop: Would Turn Every Screen Into A Gambling Device. Learn More.</td>\n",
       "    </tr>\n",
       "    <tr>\n",
       "      <th>3</th>\n",
       "      <td>CR548953410917892096</td>\n",
       "      <td>https://transparencyreport.google.com/political-ads/library/advertiser/AR199061254449397760/creative/CR548953410917892096</td>\n",
       "      <td>https://transparencyreport.google.com/transparencyreport/api/v3/politicalads/creatives/details?entity_id=AR199061254449397760&amp;creative_id=CR548953410917892096&amp;hl=en</td>\n",
       "      <td>\"Stand with Captain Sam Brown. Let's restore accountability and leadership to Washington.\",\"Captain Sam Brown fought for our Country. Now, he is ready to serve the people of Nevada.</td>\n",
       "    </tr>\n",
       "    <tr>\n",
       "      <th>4</th>\n",
       "      <td>CR370192611450814464</td>\n",
       "      <td>https://transparencyreport.google.com/political-ads/library/advertiser/AR440853413404606464/creative/CR370192611450814464</td>\n",
       "      <td>https://transparencyreport.google.com/transparencyreport/api/v3/politicalads/creatives/details?entity_id=AR440853413404606464&amp;creative_id=CR370192611450814464&amp;hl=en</td>\n",
       "      <td>\"A Broad Coalition of CA Indian Tribes Opposes This Online Gambling Prop. Learn More.\",\"Take Action: Corp Prop Would Legalize An Expansion of Online Sports Gambling in CA.</td>\n",
       "    </tr>\n",
       "  </tbody>\n",
       "</table>\n",
       "</div>"
      ],
      "text/plain": [
       "                  ad_id  \\\n",
       "0  CR221162606398799872   \n",
       "1  CR436752647349862400   \n",
       "2  CR149929646081703936   \n",
       "3  CR548953410917892096   \n",
       "4  CR370192611450814464   \n",
       "\n",
       "                                                                                                                      ad_url  \\\n",
       "0  https://transparencyreport.google.com/political-ads/library/advertiser/AR206807382586556416/creative/CR221162606398799872   \n",
       "1  https://transparencyreport.google.com/political-ads/library/advertiser/AR440853413404606464/creative/CR436752647349862400   \n",
       "2  https://transparencyreport.google.com/political-ads/library/advertiser/AR440853413404606464/creative/CR149929646081703936   \n",
       "3  https://transparencyreport.google.com/political-ads/library/advertiser/AR199061254449397760/creative/CR548953410917892096   \n",
       "4  https://transparencyreport.google.com/political-ads/library/advertiser/AR440853413404606464/creative/CR370192611450814464   \n",
       "\n",
       "                                                                                                                                                             report_url  \\\n",
       "0  https://transparencyreport.google.com/transparencyreport/api/v3/politicalads/creatives/details?entity_id=AR206807382586556416&creative_id=CR221162606398799872&hl=en   \n",
       "1  https://transparencyreport.google.com/transparencyreport/api/v3/politicalads/creatives/details?entity_id=AR440853413404606464&creative_id=CR436752647349862400&hl=en   \n",
       "2  https://transparencyreport.google.com/transparencyreport/api/v3/politicalads/creatives/details?entity_id=AR440853413404606464&creative_id=CR149929646081703936&hl=en   \n",
       "3  https://transparencyreport.google.com/transparencyreport/api/v3/politicalads/creatives/details?entity_id=AR199061254449397760&creative_id=CR548953410917892096&hl=en   \n",
       "4  https://transparencyreport.google.com/transparencyreport/api/v3/politicalads/creatives/details?entity_id=AR440853413404606464&creative_id=CR370192611450814464&hl=en   \n",
       "\n",
       "                                                                                                                                                                                    text  \n",
       "0                  \"Ad Paid for by Dave Myers for San Diego County Sheriff 2022 | FPPC ID # 1436219\",\"Don't Settle for the Status Quo! Elect Dave Myers for Sheriff come June 7th, 2022!  \n",
       "1      \"A Broad Coalition of CA Indian Tribes Opposes This Online Gambling Prop. Learn More.\",\"Stop The Deceptive Corp Prop: Would Turn Every Screen Into A Gambling Device. Learn More.  \n",
       "2       \"Take Action: Corp Prop Would Legalize An Expansion of Online Sports Gambling in CA.\",\"Stop The Deceptive Corp Prop: Would Turn Every Screen Into A Gambling Device. Learn More.  \n",
       "3  \"Stand with Captain Sam Brown. Let's restore accountability and leadership to Washington.\",\"Captain Sam Brown fought for our Country. Now, he is ready to serve the people of Nevada.  \n",
       "4            \"A Broad Coalition of CA Indian Tribes Opposes This Online Gambling Prop. Learn More.\",\"Take Action: Corp Prop Would Legalize An Expansion of Online Sports Gambling in CA.  "
      ]
     },
     "execution_count": 25,
     "metadata": {},
     "output_type": "execute_result"
    }
   ],
   "source": [
    "df_text.head()"
   ]
  },
  {
   "cell_type": "code",
   "execution_count": 26,
   "id": "9a38f13e",
   "metadata": {},
   "outputs": [
    {
     "name": "stdout",
     "output_type": "stream",
     "text": [
      "2\n"
     ]
    }
   ],
   "source": [
    "# check the dataset \n",
    "if df_text['text'].isnull().sum():\n",
    "    print (df_text['text'].isnull().sum())\n",
    "    df_text = df_text[df_text['text'].notnull()]\n",
    "    df_text.reset_index(drop=True,inplace=True)"
   ]
  },
  {
   "cell_type": "code",
   "execution_count": null,
   "id": "c018a924",
   "metadata": {},
   "outputs": [],
   "source": []
  },
  {
   "cell_type": "code",
   "execution_count": null,
   "id": "413cb5f6",
   "metadata": {},
   "outputs": [],
   "source": []
  },
  {
   "cell_type": "code",
   "execution_count": 55,
   "id": "28626378",
   "metadata": {},
   "outputs": [],
   "source": [
    "df_text = clean_text(df_text)"
   ]
  },
  {
   "cell_type": "code",
   "execution_count": 56,
   "id": "6521efef",
   "metadata": {},
   "outputs": [
    {
     "name": "stdout",
     "output_type": "stream",
     "text": [
      "<class 'pandas.core.frame.DataFrame'>\n",
      "RangeIndex: 289 entries, 0 to 288\n",
      "Data columns (total 4 columns):\n",
      " #   Column      Non-Null Count  Dtype \n",
      "---  ------      --------------  ----- \n",
      " 0   ad_id       71 non-null     object\n",
      " 1   ad_url      71 non-null     object\n",
      " 2   report_url  71 non-null     object\n",
      " 3   text        289 non-null    object\n",
      "dtypes: object(4)\n",
      "memory usage: 9.2+ KB\n"
     ]
    }
   ],
   "source": [
    "df_text.info()"
   ]
  },
  {
   "cell_type": "code",
   "execution_count": null,
   "id": "c9dba409",
   "metadata": {},
   "outputs": [],
   "source": []
  },
  {
   "cell_type": "code",
   "execution_count": null,
   "id": "808f25b3",
   "metadata": {},
   "outputs": [],
   "source": [
    "\n",
    "                 "
   ]
  },
  {
   "cell_type": "code",
   "execution_count": null,
   "id": "2255241a",
   "metadata": {},
   "outputs": [],
   "source": []
  },
  {
   "cell_type": "code",
   "execution_count": 74,
   "id": "af4d3de7",
   "metadata": {},
   "outputs": [
    {
     "data": {
      "text/html": [
       "<div>\n",
       "<style scoped>\n",
       "    .dataframe tbody tr th:only-of-type {\n",
       "        vertical-align: middle;\n",
       "    }\n",
       "\n",
       "    .dataframe tbody tr th {\n",
       "        vertical-align: top;\n",
       "    }\n",
       "\n",
       "    .dataframe thead th {\n",
       "        text-align: right;\n",
       "    }\n",
       "</style>\n",
       "<table border=\"1\" class=\"dataframe\">\n",
       "  <thead>\n",
       "    <tr style=\"text-align: right;\">\n",
       "      <th></th>\n",
       "      <th>ad_id</th>\n",
       "      <th>ad_url</th>\n",
       "      <th>report_url</th>\n",
       "      <th>text</th>\n",
       "      <th>words</th>\n",
       "      <th>m_label</th>\n",
       "    </tr>\n",
       "  </thead>\n",
       "  <tbody>\n",
       "    <tr>\n",
       "      <th>0</th>\n",
       "      <td>CR221162606398799872</td>\n",
       "      <td>https://transparencyreport.google.com/political-ads/library/advertiser/AR206807382586556416/creative/CR221162606398799872</td>\n",
       "      <td>https://transparencyreport.google.com/transparencyreport/api/v3/politicalads/creatives/details?entity_id=AR206807382586556416&amp;creative_id=CR221162606398799872&amp;hl=en</td>\n",
       "      <td>ad paid for by dave myers for san diego county sheriff 2022 fppc id 1436219 don t settle for the status quo elect dave myers for sheriff come june 7th 2022</td>\n",
       "      <td>no words</td>\n",
       "      <td>no topic</td>\n",
       "    </tr>\n",
       "    <tr>\n",
       "      <th>1</th>\n",
       "      <td>CR436752647349862400</td>\n",
       "      <td>https://transparencyreport.google.com/political-ads/library/advertiser/AR440853413404606464/creative/CR436752647349862400</td>\n",
       "      <td>https://transparencyreport.google.com/transparencyreport/api/v3/politicalads/creatives/details?entity_id=AR440853413404606464&amp;creative_id=CR436752647349862400&amp;hl=en</td>\n",
       "      <td>a broad coalition of ca indian tribes opposes this online gambling prop learn more stop the deceptive corp prop would turn every screen into a gambling device learn more</td>\n",
       "      <td>no words</td>\n",
       "      <td>no topic</td>\n",
       "    </tr>\n",
       "    <tr>\n",
       "      <th>2</th>\n",
       "      <td>CR149929646081703936</td>\n",
       "      <td>https://transparencyreport.google.com/political-ads/library/advertiser/AR440853413404606464/creative/CR149929646081703936</td>\n",
       "      <td>https://transparencyreport.google.com/transparencyreport/api/v3/politicalads/creatives/details?entity_id=AR440853413404606464&amp;creative_id=CR149929646081703936&amp;hl=en</td>\n",
       "      <td>take action corp prop would legalize an expansion of online sports gambling in ca stop the deceptive corp prop would turn every screen into a gambling device learn more</td>\n",
       "      <td>no words</td>\n",
       "      <td>no topic</td>\n",
       "    </tr>\n",
       "    <tr>\n",
       "      <th>3</th>\n",
       "      <td>CR548953410917892096</td>\n",
       "      <td>https://transparencyreport.google.com/political-ads/library/advertiser/AR199061254449397760/creative/CR548953410917892096</td>\n",
       "      <td>https://transparencyreport.google.com/transparencyreport/api/v3/politicalads/creatives/details?entity_id=AR199061254449397760&amp;creative_id=CR548953410917892096&amp;hl=en</td>\n",
       "      <td>stand with captain sam brown let s restore accountability and leadership to washington captain sam brown fought for our country now he is ready to serve the people of nevada</td>\n",
       "      <td>no words</td>\n",
       "      <td>no topic</td>\n",
       "    </tr>\n",
       "    <tr>\n",
       "      <th>4</th>\n",
       "      <td>CR370192611450814464</td>\n",
       "      <td>https://transparencyreport.google.com/political-ads/library/advertiser/AR440853413404606464/creative/CR370192611450814464</td>\n",
       "      <td>https://transparencyreport.google.com/transparencyreport/api/v3/politicalads/creatives/details?entity_id=AR440853413404606464&amp;creative_id=CR370192611450814464&amp;hl=en</td>\n",
       "      <td>a broad coalition of ca indian tribes opposes this online gambling prop learn more take action corp prop would legalize an expansion of online sports gambling in ca</td>\n",
       "      <td>no words</td>\n",
       "      <td>no topic</td>\n",
       "    </tr>\n",
       "  </tbody>\n",
       "</table>\n",
       "</div>"
      ],
      "text/plain": [
       "                  ad_id  \\\n",
       "0  CR221162606398799872   \n",
       "1  CR436752647349862400   \n",
       "2  CR149929646081703936   \n",
       "3  CR548953410917892096   \n",
       "4  CR370192611450814464   \n",
       "\n",
       "                                                                                                                      ad_url  \\\n",
       "0  https://transparencyreport.google.com/political-ads/library/advertiser/AR206807382586556416/creative/CR221162606398799872   \n",
       "1  https://transparencyreport.google.com/political-ads/library/advertiser/AR440853413404606464/creative/CR436752647349862400   \n",
       "2  https://transparencyreport.google.com/political-ads/library/advertiser/AR440853413404606464/creative/CR149929646081703936   \n",
       "3  https://transparencyreport.google.com/political-ads/library/advertiser/AR199061254449397760/creative/CR548953410917892096   \n",
       "4  https://transparencyreport.google.com/political-ads/library/advertiser/AR440853413404606464/creative/CR370192611450814464   \n",
       "\n",
       "                                                                                                                                                             report_url  \\\n",
       "0  https://transparencyreport.google.com/transparencyreport/api/v3/politicalads/creatives/details?entity_id=AR206807382586556416&creative_id=CR221162606398799872&hl=en   \n",
       "1  https://transparencyreport.google.com/transparencyreport/api/v3/politicalads/creatives/details?entity_id=AR440853413404606464&creative_id=CR436752647349862400&hl=en   \n",
       "2  https://transparencyreport.google.com/transparencyreport/api/v3/politicalads/creatives/details?entity_id=AR440853413404606464&creative_id=CR149929646081703936&hl=en   \n",
       "3  https://transparencyreport.google.com/transparencyreport/api/v3/politicalads/creatives/details?entity_id=AR199061254449397760&creative_id=CR548953410917892096&hl=en   \n",
       "4  https://transparencyreport.google.com/transparencyreport/api/v3/politicalads/creatives/details?entity_id=AR440853413404606464&creative_id=CR370192611450814464&hl=en   \n",
       "\n",
       "                                                                                                                                                                            text  \\\n",
       "0                    ad paid for by dave myers for san diego county sheriff 2022 fppc id 1436219 don t settle for the status quo elect dave myers for sheriff come june 7th 2022   \n",
       "1      a broad coalition of ca indian tribes opposes this online gambling prop learn more stop the deceptive corp prop would turn every screen into a gambling device learn more   \n",
       "2       take action corp prop would legalize an expansion of online sports gambling in ca stop the deceptive corp prop would turn every screen into a gambling device learn more   \n",
       "3  stand with captain sam brown let s restore accountability and leadership to washington captain sam brown fought for our country now he is ready to serve the people of nevada   \n",
       "4           a broad coalition of ca indian tribes opposes this online gambling prop learn more take action corp prop would legalize an expansion of online sports gambling in ca   \n",
       "\n",
       "      words   m_label  \n",
       "0  no words  no topic  \n",
       "1  no words  no topic  \n",
       "2  no words  no topic  \n",
       "3  no words  no topic  \n",
       "4  no words  no topic  "
      ]
     },
     "execution_count": 74,
     "metadata": {},
     "output_type": "execute_result"
    }
   ],
   "source": [
    "df_text = get_word_lable(df_text,'lexicon.json')\n",
    "df_text.head()\n"
   ]
  },
  {
   "cell_type": "code",
   "execution_count": null,
   "id": "02063e66",
   "metadata": {},
   "outputs": [],
   "source": [
    "df_text.to_csv('ads_ca.csv')"
   ]
  },
  {
   "cell_type": "code",
   "execution_count": null,
   "id": "911c562b",
   "metadata": {},
   "outputs": [],
   "source": []
  },
  {
   "cell_type": "code",
   "execution_count": null,
   "id": "62147504",
   "metadata": {},
   "outputs": [],
   "source": []
  },
  {
   "cell_type": "code",
   "execution_count": null,
   "id": "9a91d49e",
   "metadata": {},
   "outputs": [],
   "source": [
    "text_topic = count_topic(df_text)\n",
    "text_topic"
   ]
  },
  {
   "cell_type": "code",
   "execution_count": null,
   "id": "3ccc04b7",
   "metadata": {},
   "outputs": [],
   "source": []
  },
  {
   "cell_type": "code",
   "execution_count": null,
   "id": "30365831",
   "metadata": {},
   "outputs": [],
   "source": [
    "text_word = count_word(df_text)\n",
    "text_word"
   ]
  },
  {
   "cell_type": "markdown",
   "id": "f14f7264",
   "metadata": {},
   "source": [
    "# GOOGLE"
   ]
  },
  {
   "cell_type": "code",
   "execution_count": null,
   "id": "942f7a05",
   "metadata": {},
   "outputs": [],
   "source": [
    "if google_df['text'].isnull().sum():\n",
    "    print (google_df['text'].isnull().sum())\n",
    "    google_df = google_df[google_df['text'].notnull()]\n",
    "    google_df.reset_index(drop=True,inplace=True)"
   ]
  },
  {
   "cell_type": "code",
   "execution_count": null,
   "id": "e91c99df",
   "metadata": {},
   "outputs": [],
   "source": [
    "google_df = clean_text(google_df)\n",
    "google_df.info()"
   ]
  },
  {
   "cell_type": "code",
   "execution_count": null,
   "id": "dfe4b767",
   "metadata": {},
   "outputs": [],
   "source": [
    "google_df = get_word_lable(google_df)\n",
    "google_df.head()"
   ]
  },
  {
   "cell_type": "code",
   "execution_count": null,
   "id": "997c35d9",
   "metadata": {},
   "outputs": [],
   "source": [
    "google_topic = count_topic(google_df)\n",
    "google_topic"
   ]
  },
  {
   "cell_type": "code",
   "execution_count": null,
   "id": "1a860feb",
   "metadata": {},
   "outputs": [],
   "source": [
    "google_word = count_word(google_df)\n",
    "google_word"
   ]
  },
  {
   "cell_type": "markdown",
   "id": "7d64d5e2",
   "metadata": {},
   "source": [
    "# FACEBOOK"
   ]
  },
  {
   "cell_type": "code",
   "execution_count": null,
   "id": "d00ce4bc",
   "metadata": {},
   "outputs": [],
   "source": [
    "if facebook_df['text'].isnull().sum():\n",
    "    print (facebook_df['text'].isnull().sum())\n",
    "    facebook_df = facebook_df[facebook_df['text'].notnull()]\n",
    "    facebook_df.reset_index(drop=True,inplace=True)"
   ]
  },
  {
   "cell_type": "code",
   "execution_count": null,
   "id": "5aba8203",
   "metadata": {},
   "outputs": [],
   "source": [
    "facebook_df = clean_text(facebook_df)\n",
    "facebook_df.info"
   ]
  },
  {
   "cell_type": "code",
   "execution_count": null,
   "id": "6843a658",
   "metadata": {},
   "outputs": [],
   "source": [
    "facebook_df = get_word_lable(facebook_df)\n",
    "facebook_df.head()"
   ]
  },
  {
   "cell_type": "code",
   "execution_count": null,
   "id": "2283c02b",
   "metadata": {},
   "outputs": [],
   "source": [
    "facebook_topic = count_topic(facebook_df)\n",
    "facebook_topic"
   ]
  },
  {
   "cell_type": "code",
   "execution_count": null,
   "id": "dea5e8c3",
   "metadata": {},
   "outputs": [],
   "source": [
    "facebook_word = count_word(facebook_df)\n",
    "facebook_word"
   ]
  },
  {
   "cell_type": "code",
   "execution_count": null,
   "id": "f22432c9",
   "metadata": {},
   "outputs": [],
   "source": []
  }
 ],
 "metadata": {
  "kernelspec": {
   "display_name": "Python 3 (ipykernel)",
   "language": "python",
   "name": "python3"
  },
  "language_info": {
   "codemirror_mode": {
    "name": "ipython",
    "version": 3
   },
   "file_extension": ".py",
   "mimetype": "text/x-python",
   "name": "python",
   "nbconvert_exporter": "python",
   "pygments_lexer": "ipython3",
   "version": "3.9.10"
  }
 },
 "nbformat": 4,
 "nbformat_minor": 5
}
