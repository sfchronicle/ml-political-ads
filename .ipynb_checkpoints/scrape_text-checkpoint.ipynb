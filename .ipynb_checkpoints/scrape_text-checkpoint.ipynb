{
 "cells": [
  {
   "cell_type": "code",
   "execution_count": 2,
   "id": "3e6c5213",
   "metadata": {},
   "outputs": [],
   "source": [
    "from bs4 import BeautifulSoup\n",
    "import pandas as pd\n",
    "import requests\n",
    "import re\n",
    "import json\n",
    "import spacy\n",
    "from spacy.matcher import PhraseMatcher"
   ]
  },
  {
   "cell_type": "markdown",
   "id": "b71809c5",
   "metadata": {},
   "source": [
    "# Scrape all ad texts from urls"
   ]
  },
  {
   "cell_type": "code",
   "execution_count": 3,
   "id": "01a9aaec",
   "metadata": {},
   "outputs": [
    {
     "data": {
      "text/html": [
       "<div>\n",
       "<style scoped>\n",
       "    .dataframe tbody tr th:only-of-type {\n",
       "        vertical-align: middle;\n",
       "    }\n",
       "\n",
       "    .dataframe tbody tr th {\n",
       "        vertical-align: top;\n",
       "    }\n",
       "\n",
       "    .dataframe thead th {\n",
       "        text-align: right;\n",
       "    }\n",
       "</style>\n",
       "<table border=\"1\" class=\"dataframe\">\n",
       "  <thead>\n",
       "    <tr style=\"text-align: right;\">\n",
       "      <th></th>\n",
       "      <th>ad_id</th>\n",
       "      <th>ad_url</th>\n",
       "      <th>ad_type</th>\n",
       "      <th>regions</th>\n",
       "      <th>advertiser_id</th>\n",
       "      <th>advertiser_name</th>\n",
       "      <th>ad_campaigns_list</th>\n",
       "      <th>date_range_start</th>\n",
       "      <th>date_range_end</th>\n",
       "      <th>num_of_days</th>\n",
       "      <th>...</th>\n",
       "      <th>spend_range_min_pln</th>\n",
       "      <th>spend_range_max_pln</th>\n",
       "      <th>spend_range_min_ron</th>\n",
       "      <th>spend_range_max_ron</th>\n",
       "      <th>spend_range_min_sek</th>\n",
       "      <th>spend_range_max_sek</th>\n",
       "      <th>spend_range_min_gbp</th>\n",
       "      <th>spend_range_max_gbp</th>\n",
       "      <th>spend_range_min_nzd</th>\n",
       "      <th>spend_range_max_nzd</th>\n",
       "    </tr>\n",
       "  </thead>\n",
       "  <tbody>\n",
       "    <tr>\n",
       "      <th>0</th>\n",
       "      <td>CR134968385204125696</td>\n",
       "      <td>https://transparencyreport.google.com/politica...</td>\n",
       "      <td>Text</td>\n",
       "      <td>US</td>\n",
       "      <td>AR465982957815857152</td>\n",
       "      <td>LYDIA BEAN FOR CONGRESS</td>\n",
       "      <td>NaN</td>\n",
       "      <td>2021-03-11</td>\n",
       "      <td>2021-05-01</td>\n",
       "      <td>49</td>\n",
       "      <td>...</td>\n",
       "      <td>100</td>\n",
       "      <td>1000.0</td>\n",
       "      <td>750</td>\n",
       "      <td>37500.0</td>\n",
       "      <td>750</td>\n",
       "      <td>7500.0</td>\n",
       "      <td>50</td>\n",
       "      <td>500.0</td>\n",
       "      <td>200</td>\n",
       "      <td>1500.0</td>\n",
       "    </tr>\n",
       "    <tr>\n",
       "      <th>1</th>\n",
       "      <td>CR349206645328314368</td>\n",
       "      <td>https://transparencyreport.google.com/politica...</td>\n",
       "      <td>Image</td>\n",
       "      <td>US</td>\n",
       "      <td>AR221691299693068288</td>\n",
       "      <td>SAHAK NALBANDYAN</td>\n",
       "      <td>NaN</td>\n",
       "      <td>2022-01-12</td>\n",
       "      <td>2022-02-02</td>\n",
       "      <td>22</td>\n",
       "      <td>...</td>\n",
       "      <td>100</td>\n",
       "      <td>1000.0</td>\n",
       "      <td>75</td>\n",
       "      <td>750.0</td>\n",
       "      <td>750</td>\n",
       "      <td>7500.0</td>\n",
       "      <td>50</td>\n",
       "      <td>500.0</td>\n",
       "      <td>0</td>\n",
       "      <td>200.0</td>\n",
       "    </tr>\n",
       "    <tr>\n",
       "      <th>2</th>\n",
       "      <td>CR531379229376380928</td>\n",
       "      <td>https://transparencyreport.google.com/politica...</td>\n",
       "      <td>Text</td>\n",
       "      <td>US</td>\n",
       "      <td>AR279687823638921216</td>\n",
       "      <td>Glenn A. Hegar</td>\n",
       "      <td>NaN</td>\n",
       "      <td>2022-01-05</td>\n",
       "      <td>2022-03-01</td>\n",
       "      <td>47</td>\n",
       "      <td>...</td>\n",
       "      <td>100</td>\n",
       "      <td>1000.0</td>\n",
       "      <td>75</td>\n",
       "      <td>750.0</td>\n",
       "      <td>750</td>\n",
       "      <td>7500.0</td>\n",
       "      <td>50</td>\n",
       "      <td>500.0</td>\n",
       "      <td>0</td>\n",
       "      <td>200.0</td>\n",
       "    </tr>\n",
       "    <tr>\n",
       "      <th>3</th>\n",
       "      <td>CR133689996778405888</td>\n",
       "      <td>https://transparencyreport.google.com/politica...</td>\n",
       "      <td>Image</td>\n",
       "      <td>US</td>\n",
       "      <td>AR140325824329940992</td>\n",
       "      <td>Chad Crow</td>\n",
       "      <td>NaN</td>\n",
       "      <td>2022-02-17</td>\n",
       "      <td>2022-03-01</td>\n",
       "      <td>13</td>\n",
       "      <td>...</td>\n",
       "      <td>100</td>\n",
       "      <td>1000.0</td>\n",
       "      <td>75</td>\n",
       "      <td>750.0</td>\n",
       "      <td>750</td>\n",
       "      <td>7500.0</td>\n",
       "      <td>50</td>\n",
       "      <td>500.0</td>\n",
       "      <td>0</td>\n",
       "      <td>200.0</td>\n",
       "    </tr>\n",
       "    <tr>\n",
       "      <th>4</th>\n",
       "      <td>CR118816009636282368</td>\n",
       "      <td>https://transparencyreport.google.com/politica...</td>\n",
       "      <td>Text</td>\n",
       "      <td>US</td>\n",
       "      <td>AR393003423278039040</td>\n",
       "      <td>CAITLYN JENNER FOR GOVERNOR 2021, INC.</td>\n",
       "      <td>NaN</td>\n",
       "      <td>2021-05-03</td>\n",
       "      <td>2021-05-26</td>\n",
       "      <td>17</td>\n",
       "      <td>...</td>\n",
       "      <td>100</td>\n",
       "      <td>1000.0</td>\n",
       "      <td>750</td>\n",
       "      <td>37500.0</td>\n",
       "      <td>750</td>\n",
       "      <td>7500.0</td>\n",
       "      <td>50</td>\n",
       "      <td>500.0</td>\n",
       "      <td>200</td>\n",
       "      <td>1500.0</td>\n",
       "    </tr>\n",
       "  </tbody>\n",
       "</table>\n",
       "<p>5 rows × 44 columns</p>\n",
       "</div>"
      ],
      "text/plain": [
       "                  ad_id                                             ad_url  \\\n",
       "0  CR134968385204125696  https://transparencyreport.google.com/politica...   \n",
       "1  CR349206645328314368  https://transparencyreport.google.com/politica...   \n",
       "2  CR531379229376380928  https://transparencyreport.google.com/politica...   \n",
       "3  CR133689996778405888  https://transparencyreport.google.com/politica...   \n",
       "4  CR118816009636282368  https://transparencyreport.google.com/politica...   \n",
       "\n",
       "  ad_type regions         advertiser_id  \\\n",
       "0    Text      US  AR465982957815857152   \n",
       "1   Image      US  AR221691299693068288   \n",
       "2    Text      US  AR279687823638921216   \n",
       "3   Image      US  AR140325824329940992   \n",
       "4    Text      US  AR393003423278039040   \n",
       "\n",
       "                          advertiser_name  ad_campaigns_list date_range_start  \\\n",
       "0                 LYDIA BEAN FOR CONGRESS                NaN       2021-03-11   \n",
       "1                        SAHAK NALBANDYAN                NaN       2022-01-12   \n",
       "2                          Glenn A. Hegar                NaN       2022-01-05   \n",
       "3                               Chad Crow                NaN       2022-02-17   \n",
       "4  CAITLYN JENNER FOR GOVERNOR 2021, INC.                NaN       2021-05-03   \n",
       "\n",
       "  date_range_end  num_of_days  ... spend_range_min_pln spend_range_max_pln  \\\n",
       "0     2021-05-01           49  ...                 100              1000.0   \n",
       "1     2022-02-02           22  ...                 100              1000.0   \n",
       "2     2022-03-01           47  ...                 100              1000.0   \n",
       "3     2022-03-01           13  ...                 100              1000.0   \n",
       "4     2021-05-26           17  ...                 100              1000.0   \n",
       "\n",
       "  spend_range_min_ron spend_range_max_ron spend_range_min_sek  \\\n",
       "0                 750             37500.0                 750   \n",
       "1                  75               750.0                 750   \n",
       "2                  75               750.0                 750   \n",
       "3                  75               750.0                 750   \n",
       "4                 750             37500.0                 750   \n",
       "\n",
       "  spend_range_max_sek spend_range_min_gbp spend_range_max_gbp  \\\n",
       "0              7500.0                  50               500.0   \n",
       "1              7500.0                  50               500.0   \n",
       "2              7500.0                  50               500.0   \n",
       "3              7500.0                  50               500.0   \n",
       "4              7500.0                  50               500.0   \n",
       "\n",
       "   spend_range_min_nzd  spend_range_max_nzd  \n",
       "0                  200               1500.0  \n",
       "1                    0                200.0  \n",
       "2                    0                200.0  \n",
       "3                    0                200.0  \n",
       "4                  200               1500.0  \n",
       "\n",
       "[5 rows x 44 columns]"
      ]
     },
     "execution_count": 3,
     "metadata": {},
     "output_type": "execute_result"
    }
   ],
   "source": [
    "# import the data\n",
    "df = pd.read_csv('Texas2021.csv')\n",
    "df = pd.DataFrame(df)\n",
    "df.head()"
   ]
  },
  {
   "cell_type": "code",
   "execution_count": 4,
   "id": "bae40a6a",
   "metadata": {},
   "outputs": [
    {
     "data": {
      "text/plain": [
       "['https://transparencyreport.google.com/political-ads/library/advertiser/AR279687823638921216/creative/CR531379229376380928',\n",
       " 'https://transparencyreport.google.com/political-ads/library/advertiser/AR393003423278039040/creative/CR118816009636282368',\n",
       " 'https://transparencyreport.google.com/political-ads/library/advertiser/AR393003423278039040/creative/CR134265247518162944',\n",
       " 'https://transparencyreport.google.com/political-ads/library/advertiser/AR67037258305241088/creative/CR502092019183648768',\n",
       " 'https://transparencyreport.google.com/political-ads/library/advertiser/AR465982957815857152/creative/CR12089164707135488',\n",
       " 'https://transparencyreport.google.com/political-ads/library/advertiser/AR122301255337902080/creative/CR528988616219688960',\n",
       " 'https://transparencyreport.google.com/political-ads/library/advertiser/AR389693240443404288/creative/CR496800138438639616',\n",
       " 'https://transparencyreport.google.com/political-ads/library/advertiser/AR19054570869096448/creative/CR81964777919741952',\n",
       " 'https://transparencyreport.google.com/political-ads/library/advertiser/AR19439915334893568/creative/CR162678689564196864']"
      ]
     },
     "execution_count": 4,
     "metadata": {},
     "output_type": "execute_result"
    }
   ],
   "source": [
    "# create a list of urls from text ads\n",
    "urls = df[df['ad_type']=='Text']['ad_url'].to_list()\n",
    "urls[1:10]"
   ]
  },
  {
   "cell_type": "code",
   "execution_count": 5,
   "id": "4eef63ef",
   "metadata": {},
   "outputs": [
    {
     "data": {
      "text/plain": [
       "654"
      ]
     },
     "execution_count": 5,
     "metadata": {},
     "output_type": "execute_result"
    }
   ],
   "source": [
    "# chech the number of urls\n",
    "len(urls)"
   ]
  },
  {
   "cell_type": "code",
   "execution_count": 6,
   "id": "fe687446",
   "metadata": {},
   "outputs": [
    {
     "data": {
      "text/plain": [
       "['https://transparencyreport.google.com/transparencyreport/api/v3/politicalads/creatives/details?entity_id=AR279687823638921216&creative_id=CR531379229376380928&hl=en',\n",
       " 'https://transparencyreport.google.com/transparencyreport/api/v3/politicalads/creatives/details?entity_id=AR393003423278039040&creative_id=CR118816009636282368&hl=en',\n",
       " 'https://transparencyreport.google.com/transparencyreport/api/v3/politicalads/creatives/details?entity_id=AR393003423278039040&creative_id=CR134265247518162944&hl=en',\n",
       " 'https://transparencyreport.google.com/transparencyreport/api/v3/politicalads/creatives/details?entity_id=AR67037258305241088&creative_id=CR502092019183648768&hl=en',\n",
       " 'https://transparencyreport.google.com/transparencyreport/api/v3/politicalads/creatives/details?entity_id=AR465982957815857152&creative_id=CR12089164707135488&hl=en',\n",
       " 'https://transparencyreport.google.com/transparencyreport/api/v3/politicalads/creatives/details?entity_id=AR122301255337902080&creative_id=CR528988616219688960&hl=en',\n",
       " 'https://transparencyreport.google.com/transparencyreport/api/v3/politicalads/creatives/details?entity_id=AR389693240443404288&creative_id=CR496800138438639616&hl=en',\n",
       " 'https://transparencyreport.google.com/transparencyreport/api/v3/politicalads/creatives/details?entity_id=AR19054570869096448&creative_id=CR81964777919741952&hl=en',\n",
       " 'https://transparencyreport.google.com/transparencyreport/api/v3/politicalads/creatives/details?entity_id=AR19439915334893568&creative_id=CR162678689564196864&hl=en']"
      ]
     },
     "execution_count": 6,
     "metadata": {},
     "output_type": "execute_result"
    }
   ],
   "source": [
    "# Google uses a secret API to get the ad texts from ad reports and import them into the ads pages\n",
    "# use entity_id and creative_id to get url for each report\n",
    "report_urls = []\n",
    "for url in urls:\n",
    "    entity_id = url.split('/')[-3]\n",
    "    creative_id = url.split('/')[-1]\n",
    "    report_url = 'https://transparencyreport.google.com/transparencyreport/api/v3/politicalads/creatives/details?entity_id={}&creative_id={}&hl=en'.format(entity_id,creative_id)\n",
    "    report_urls.append(report_url)\n",
    "report_urls[1:10]"
   ]
  },
  {
   "cell_type": "code",
   "execution_count": 7,
   "id": "6885a864",
   "metadata": {},
   "outputs": [
    {
     "data": {
      "text/plain": [
       "654"
      ]
     },
     "execution_count": 7,
     "metadata": {},
     "output_type": "execute_result"
    }
   ],
   "source": [
    "# check if the number of the reports matches the number of urls\n",
    "len(report_urls)"
   ]
  },
  {
   "cell_type": "code",
   "execution_count": 8,
   "id": "870301c1",
   "metadata": {},
   "outputs": [],
   "source": [
    "df_report = pd.DataFrame(report_urls)"
   ]
  },
  {
   "cell_type": "code",
   "execution_count": 9,
   "id": "6dc7eb71",
   "metadata": {},
   "outputs": [],
   "source": [
    "# now, let's scrape the ads text from each report\n",
    "def get_text(report_url):\n",
    "    response = requests.get(report_url)\n",
    "    text = response.text.split('\"]')[0].split('[')[-1]\n",
    "    return text"
   ]
  },
  {
   "cell_type": "code",
   "execution_count": 10,
   "id": "e09a1c41",
   "metadata": {},
   "outputs": [],
   "source": [
    "ad_text = []\n",
    "for report_url in report_urls:\n",
    "    text = get_text(report_url)\n",
    "    ad_text.append(text)"
   ]
  },
  {
   "cell_type": "code",
   "execution_count": 11,
   "id": "18399b87",
   "metadata": {},
   "outputs": [
    {
     "data": {
      "text/plain": [
       "654"
      ]
     },
     "execution_count": 11,
     "metadata": {},
     "output_type": "execute_result"
    }
   ],
   "source": [
    "len(ad_text)"
   ]
  },
  {
   "cell_type": "code",
   "execution_count": 12,
   "id": "5d233bf0",
   "metadata": {},
   "outputs": [],
   "source": [
    "df_texas = pd.DataFrame(ad_text)"
   ]
  },
  {
   "cell_type": "code",
   "execution_count": 13,
   "id": "b2d71cec",
   "metadata": {},
   "outputs": [],
   "source": [
    "df_texas.rename(columns = {0:'text'},inplace = True)"
   ]
  },
  {
   "cell_type": "code",
   "execution_count": 14,
   "id": "da47f6d0",
   "metadata": {},
   "outputs": [],
   "source": [
    "# create a new dataframe with ad_id, ad_url,report_url, and text"
   ]
  },
  {
   "cell_type": "code",
   "execution_count": 15,
   "id": "a481dffb",
   "metadata": {},
   "outputs": [
    {
     "data": {
      "text/html": [
       "<div>\n",
       "<style scoped>\n",
       "    .dataframe tbody tr th:only-of-type {\n",
       "        vertical-align: middle;\n",
       "    }\n",
       "\n",
       "    .dataframe tbody tr th {\n",
       "        vertical-align: top;\n",
       "    }\n",
       "\n",
       "    .dataframe thead th {\n",
       "        text-align: right;\n",
       "    }\n",
       "</style>\n",
       "<table border=\"1\" class=\"dataframe\">\n",
       "  <thead>\n",
       "    <tr style=\"text-align: right;\">\n",
       "      <th></th>\n",
       "      <th>ad_id</th>\n",
       "      <th>ad_url</th>\n",
       "    </tr>\n",
       "  </thead>\n",
       "  <tbody>\n",
       "    <tr>\n",
       "      <th>0</th>\n",
       "      <td>CR134968385204125696</td>\n",
       "      <td>https://transparencyreport.google.com/politica...</td>\n",
       "    </tr>\n",
       "    <tr>\n",
       "      <th>1</th>\n",
       "      <td>CR531379229376380928</td>\n",
       "      <td>https://transparencyreport.google.com/politica...</td>\n",
       "    </tr>\n",
       "    <tr>\n",
       "      <th>2</th>\n",
       "      <td>CR118816009636282368</td>\n",
       "      <td>https://transparencyreport.google.com/politica...</td>\n",
       "    </tr>\n",
       "    <tr>\n",
       "      <th>3</th>\n",
       "      <td>CR134265247518162944</td>\n",
       "      <td>https://transparencyreport.google.com/politica...</td>\n",
       "    </tr>\n",
       "    <tr>\n",
       "      <th>4</th>\n",
       "      <td>CR502092019183648768</td>\n",
       "      <td>https://transparencyreport.google.com/politica...</td>\n",
       "    </tr>\n",
       "    <tr>\n",
       "      <th>...</th>\n",
       "      <td>...</td>\n",
       "      <td>...</td>\n",
       "    </tr>\n",
       "    <tr>\n",
       "      <th>649</th>\n",
       "      <td>CR10729618579390464</td>\n",
       "      <td>https://transparencyreport.google.com/politica...</td>\n",
       "    </tr>\n",
       "    <tr>\n",
       "      <th>650</th>\n",
       "      <td>CR120543342403518464</td>\n",
       "      <td>https://transparencyreport.google.com/politica...</td>\n",
       "    </tr>\n",
       "    <tr>\n",
       "      <th>651</th>\n",
       "      <td>CR544406174422794240</td>\n",
       "      <td>https://transparencyreport.google.com/politica...</td>\n",
       "    </tr>\n",
       "    <tr>\n",
       "      <th>652</th>\n",
       "      <td>CR242540204819218432</td>\n",
       "      <td>https://transparencyreport.google.com/politica...</td>\n",
       "    </tr>\n",
       "    <tr>\n",
       "      <th>653</th>\n",
       "      <td>CR327415974133235712</td>\n",
       "      <td>https://transparencyreport.google.com/politica...</td>\n",
       "    </tr>\n",
       "  </tbody>\n",
       "</table>\n",
       "<p>654 rows × 2 columns</p>\n",
       "</div>"
      ],
      "text/plain": [
       "                    ad_id                                             ad_url\n",
       "0    CR134968385204125696  https://transparencyreport.google.com/politica...\n",
       "1    CR531379229376380928  https://transparencyreport.google.com/politica...\n",
       "2    CR118816009636282368  https://transparencyreport.google.com/politica...\n",
       "3    CR134265247518162944  https://transparencyreport.google.com/politica...\n",
       "4    CR502092019183648768  https://transparencyreport.google.com/politica...\n",
       "..                    ...                                                ...\n",
       "649   CR10729618579390464  https://transparencyreport.google.com/politica...\n",
       "650  CR120543342403518464  https://transparencyreport.google.com/politica...\n",
       "651  CR544406174422794240  https://transparencyreport.google.com/politica...\n",
       "652  CR242540204819218432  https://transparencyreport.google.com/politica...\n",
       "653  CR327415974133235712  https://transparencyreport.google.com/politica...\n",
       "\n",
       "[654 rows x 2 columns]"
      ]
     },
     "execution_count": 15,
     "metadata": {},
     "output_type": "execute_result"
    }
   ],
   "source": [
    "df_new = df[df['ad_type']=='Text'][['ad_id','ad_url']].reset_index(drop = True)\n",
    "df_new"
   ]
  },
  {
   "cell_type": "code",
   "execution_count": 16,
   "id": "053f91e0",
   "metadata": {},
   "outputs": [],
   "source": [
    "df_full = pd.concat([df_new,df_report,df_texas],axis=1)"
   ]
  },
  {
   "cell_type": "code",
   "execution_count": 17,
   "id": "bdaff999",
   "metadata": {},
   "outputs": [],
   "source": [
    "df_full.to_csv('full_url_text.csv')"
   ]
  },
  {
   "cell_type": "markdown",
   "id": "a7469510",
   "metadata": {},
   "source": [
    "# Clean the text ads"
   ]
  },
  {
   "cell_type": "code",
   "execution_count": 18,
   "id": "4402da41",
   "metadata": {},
   "outputs": [
    {
     "data": {
      "text/html": [
       "<div>\n",
       "<style scoped>\n",
       "    .dataframe tbody tr th:only-of-type {\n",
       "        vertical-align: middle;\n",
       "    }\n",
       "\n",
       "    .dataframe tbody tr th {\n",
       "        vertical-align: top;\n",
       "    }\n",
       "\n",
       "    .dataframe thead th {\n",
       "        text-align: right;\n",
       "    }\n",
       "</style>\n",
       "<table border=\"1\" class=\"dataframe\">\n",
       "  <thead>\n",
       "    <tr style=\"text-align: right;\">\n",
       "      <th></th>\n",
       "      <th>text</th>\n",
       "    </tr>\n",
       "  </thead>\n",
       "  <tbody>\n",
       "    <tr>\n",
       "      <th>0</th>\n",
       "      <td>\"Lydia has always stood for what's right, just...</td>\n",
       "    </tr>\n",
       "    <tr>\n",
       "      <th>1</th>\n",
       "      <td>\"Glenn Hegar is a sixth generation Texan runni...</td>\n",
       "    </tr>\n",
       "    <tr>\n",
       "      <th>2</th>\n",
       "      <td>\"Caitlyn Is The Change California Needs. Donat...</td>\n",
       "    </tr>\n",
       "    <tr>\n",
       "      <th>3</th>\n",
       "      <td>\"Get Rid Of Gavin Once And For All. Caitlyn Ha...</td>\n",
       "    </tr>\n",
       "    <tr>\n",
       "      <th>4</th>\n",
       "      <td>\"Will we join the left to take America backwar...</td>\n",
       "    </tr>\n",
       "    <tr>\n",
       "      <th>...</th>\n",
       "      <td>...</td>\n",
       "    </tr>\n",
       "    <tr>\n",
       "      <th>649</th>\n",
       "      <td>\"California Deserves Better. California Deserv...</td>\n",
       "    </tr>\n",
       "    <tr>\n",
       "      <th>650</th>\n",
       "      <td>\"Newsom Recall Is Official! Caitlyn Can Fix Ca...</td>\n",
       "    </tr>\n",
       "    <tr>\n",
       "      <th>651</th>\n",
       "      <td>\"Newsom Recall Is Official! Caitlyn Can Fix Ca...</td>\n",
       "    </tr>\n",
       "    <tr>\n",
       "      <th>652</th>\n",
       "      <td>\"Don't Let Chuck Schumer and Joe Biden Impleme...</td>\n",
       "    </tr>\n",
       "    <tr>\n",
       "      <th>653</th>\n",
       "      <td>\"Become a member of Team Abbott today!\",\"Join ...</td>\n",
       "    </tr>\n",
       "  </tbody>\n",
       "</table>\n",
       "<p>654 rows × 1 columns</p>\n",
       "</div>"
      ],
      "text/plain": [
       "                                                  text\n",
       "0    \"Lydia has always stood for what's right, just...\n",
       "1    \"Glenn Hegar is a sixth generation Texan runni...\n",
       "2    \"Caitlyn Is The Change California Needs. Donat...\n",
       "3    \"Get Rid Of Gavin Once And For All. Caitlyn Ha...\n",
       "4    \"Will we join the left to take America backwar...\n",
       "..                                                 ...\n",
       "649  \"California Deserves Better. California Deserv...\n",
       "650  \"Newsom Recall Is Official! Caitlyn Can Fix Ca...\n",
       "651  \"Newsom Recall Is Official! Caitlyn Can Fix Ca...\n",
       "652  \"Don't Let Chuck Schumer and Joe Biden Impleme...\n",
       "653  \"Become a member of Team Abbott today!\",\"Join ...\n",
       "\n",
       "[654 rows x 1 columns]"
      ]
     },
     "execution_count": 18,
     "metadata": {},
     "output_type": "execute_result"
    }
   ],
   "source": [
    "df_texas"
   ]
  },
  {
   "cell_type": "code",
   "execution_count": 19,
   "id": "7a0a230b",
   "metadata": {},
   "outputs": [],
   "source": [
    "# check the dataset \n",
    "if df_texas['text'].isnull().sum():\n",
    "    print (df_texas['text'].isnull().sum())\n",
    "    df_texas = df_texas[df_texas['text'].notnull()]\n",
    "    df_texas.reset_index(drop=True,inplace=True)"
   ]
  },
  {
   "cell_type": "code",
   "execution_count": 20,
   "id": "2ad257ff",
   "metadata": {},
   "outputs": [],
   "source": [
    "# function that filter the urls and symbols in the text \n",
    "def filter_text(x):\n",
    "    url = 'http[s]?://\\S+'\n",
    "    x = re.sub(url,'',x)\n",
    "    x = re.sub(\"[^\\w\\s]\",' ',x) # filter symbols\n",
    "    x = re.sub(\"\\s+\",' ',x)\n",
    "    \n",
    "    ls=[w.lower() for w in x.split()] \n",
    "    \n",
    "    return ' '.join(ls)"
   ]
  },
  {
   "cell_type": "code",
   "execution_count": 21,
   "id": "adcb80b2",
   "metadata": {},
   "outputs": [
    {
     "data": {
      "text/html": [
       "<div>\n",
       "<style scoped>\n",
       "    .dataframe tbody tr th:only-of-type {\n",
       "        vertical-align: middle;\n",
       "    }\n",
       "\n",
       "    .dataframe tbody tr th {\n",
       "        vertical-align: top;\n",
       "    }\n",
       "\n",
       "    .dataframe thead th {\n",
       "        text-align: right;\n",
       "    }\n",
       "</style>\n",
       "<table border=\"1\" class=\"dataframe\">\n",
       "  <thead>\n",
       "    <tr style=\"text-align: right;\">\n",
       "      <th></th>\n",
       "      <th>text</th>\n",
       "    </tr>\n",
       "  </thead>\n",
       "  <tbody>\n",
       "    <tr>\n",
       "      <th>0</th>\n",
       "      <td>lydia has always stood for what s right just a...</td>\n",
       "    </tr>\n",
       "    <tr>\n",
       "      <th>1</th>\n",
       "      <td>glenn hegar is a sixth generation texan runnin...</td>\n",
       "    </tr>\n",
       "    <tr>\n",
       "      <th>2</th>\n",
       "      <td>caitlyn is the change california needs donate ...</td>\n",
       "    </tr>\n",
       "    <tr>\n",
       "      <th>3</th>\n",
       "      <td>get rid of gavin once and for all caitlyn has ...</td>\n",
       "    </tr>\n",
       "    <tr>\n",
       "      <th>4</th>\n",
       "      <td>will we join the left to take america backward...</td>\n",
       "    </tr>\n",
       "  </tbody>\n",
       "</table>\n",
       "</div>"
      ],
      "text/plain": [
       "                                                text\n",
       "0  lydia has always stood for what s right just a...\n",
       "1  glenn hegar is a sixth generation texan runnin...\n",
       "2  caitlyn is the change california needs donate ...\n",
       "3  get rid of gavin once and for all caitlyn has ...\n",
       "4  will we join the left to take america backward..."
      ]
     },
     "execution_count": 21,
     "metadata": {},
     "output_type": "execute_result"
    }
   ],
   "source": [
    "df_texas['text'] = df_texas['text'].astype(str).apply(lambda x: filter_text(x))\n",
    "df_texas.head()"
   ]
  },
  {
   "cell_type": "code",
   "execution_count": 22,
   "id": "eb751d54",
   "metadata": {},
   "outputs": [
    {
     "data": {
      "text/plain": [
       "ca has had enough of newsom caitlyn can take back our state donate now help take back california newsom is a disaster donate to make ca red                                     19\n",
       "newsom recall is official caitlyn can fix california donate now did you see the news gavin newsom will be recalled caitlyn can fix ca chip in 5                                 17\n",
       "get rid of gavin once and for all caitlyn has a plan to save california donate today it s official newsom will be recalled caitlyn will put people over politics chip in        13\n",
       "californians deserve leadership who is accountable to them caitlyn will be chip in now caitlyn will fight for you she is an outsider and a proven winner donate now             12\n",
       "caitlyn is an outsider sacramento special interests have no power over her donate now drain the ca swamp newsom is controlled by special interests caitlyn is not donate now    12\n",
       "californians deserve better from their governor caitlyn will fix it donate now gavin newsom orders us to stay home while dining with lobbyists donate now to stop him           11\n",
       "fed up with one party leadership in ca chip in to fight for everyday californians gavin newsom doesn t offer solutions but caitlyn will ca deserves better donate now           11\n",
       "as your senator i describe my job in three words listen learn lead true representative government begins with listening listening to your experiences obser                      9\n",
       "sports are about fairness it is unfair for men to compete against females donate now caitlyn will bravely stand up for what is fair stand with her now donate today              8\n",
       "calling all patriots sacramento needs an honest leader with a clear vision donate now here is your chance every dollar counts to get rid of newsom chip in 10                    8\n",
       "the only place to shop for official caitlyn merchandise browse t shirts hats and more support caitlyn jenner with official caitlyn merchandise                                   8\n",
       "official merchandise for caitlyn for california governor new styles available now support caitlyn jenner with official merchandise                                               7\n",
       "texas                                                                                                                                                                            7\n",
       "caitlyn supports trans rights sports should be fair boys can t compete against girls caitlyn will now lie to appease hollywood step up at this critical moment donate now        6\n",
       "gavin newsom is a disaster caitlyn is the only outsider who can defeat him chip in now caitlyn will take on the sacramento politicians she will fight for us donate now          6\n",
       "hegar will stand up for the tax payer and fight for government transparency learn more                                                                                           6\n",
       "let s make voting simpler more convenient and more accessible vote kurt for clerk in the march 1 democratic primary                                                              6\n",
       "newsom puts politics over progress caitlyn won t donate now we need caitlyn donate now to save california                                                                        6\n",
       "captain sam brown will put duty to country first u0026 will fight to protect the constitution please support captain sam brown for senate by donating 10 or 20 today             6\n",
       "california needs an honest leader with a clear vision support caitlyn jenner today caitlyn needs your support donate today to help save california from democratic reign         6\n",
       "Name: text, dtype: int64"
      ]
     },
     "execution_count": 22,
     "metadata": {},
     "output_type": "execute_result"
    }
   ],
   "source": [
    "# check if there are duplicated texts, if yes, print them out\n",
    "df_texas['text'].value_counts().head(20)"
   ]
  },
  {
   "cell_type": "code",
   "execution_count": 23,
   "id": "de447d26",
   "metadata": {},
   "outputs": [],
   "source": [
    "# remove duplicated rows\n",
    "df_texas.drop_duplicates(keep = 'first', inplace = True)\n",
    "df_texas.reset_index(inplace = True,drop = True)"
   ]
  },
  {
   "cell_type": "code",
   "execution_count": 24,
   "id": "03023bac",
   "metadata": {},
   "outputs": [],
   "source": [
    "# the \"&\" shows as \"/u0026\" in the text, let's remove it\n",
    "df_texas['text'] = df_texas['text'].replace('/u0026', ' ')"
   ]
  },
  {
   "cell_type": "code",
   "execution_count": 25,
   "id": "ebc8118a",
   "metadata": {},
   "outputs": [
    {
     "data": {
      "text/html": [
       "<div>\n",
       "<style scoped>\n",
       "    .dataframe tbody tr th:only-of-type {\n",
       "        vertical-align: middle;\n",
       "    }\n",
       "\n",
       "    .dataframe tbody tr th {\n",
       "        vertical-align: top;\n",
       "    }\n",
       "\n",
       "    .dataframe thead th {\n",
       "        text-align: right;\n",
       "    }\n",
       "</style>\n",
       "<table border=\"1\" class=\"dataframe\">\n",
       "  <thead>\n",
       "    <tr style=\"text-align: right;\">\n",
       "      <th></th>\n",
       "      <th>text</th>\n",
       "    </tr>\n",
       "  </thead>\n",
       "  <tbody>\n",
       "    <tr>\n",
       "      <th>0</th>\n",
       "      <td>lydia has always stood for what s right just a...</td>\n",
       "    </tr>\n",
       "    <tr>\n",
       "      <th>1</th>\n",
       "      <td>glenn hegar is a sixth generation texan runnin...</td>\n",
       "    </tr>\n",
       "    <tr>\n",
       "      <th>2</th>\n",
       "      <td>caitlyn is the change california needs donate ...</td>\n",
       "    </tr>\n",
       "    <tr>\n",
       "      <th>3</th>\n",
       "      <td>get rid of gavin once and for all caitlyn has ...</td>\n",
       "    </tr>\n",
       "    <tr>\n",
       "      <th>4</th>\n",
       "      <td>will we join the left to take america backward...</td>\n",
       "    </tr>\n",
       "    <tr>\n",
       "      <th>5</th>\n",
       "      <td>lydia stands for quality schools more jobs and...</td>\n",
       "    </tr>\n",
       "    <tr>\n",
       "      <th>6</th>\n",
       "      <td>states are passing laws to silence voters fede...</td>\n",
       "    </tr>\n",
       "    <tr>\n",
       "      <th>7</th>\n",
       "      <td>this campaign is about what we can achieve whe...</td>\n",
       "    </tr>\n",
       "    <tr>\n",
       "      <th>8</th>\n",
       "      <td>shawn lassiter is a former stem educator and a...</td>\n",
       "    </tr>\n",
       "    <tr>\n",
       "      <th>9</th>\n",
       "      <td>gov abbott does not stand with texas women he ...</td>\n",
       "    </tr>\n",
       "  </tbody>\n",
       "</table>\n",
       "</div>"
      ],
      "text/plain": [
       "                                                text\n",
       "0  lydia has always stood for what s right just a...\n",
       "1  glenn hegar is a sixth generation texan runnin...\n",
       "2  caitlyn is the change california needs donate ...\n",
       "3  get rid of gavin once and for all caitlyn has ...\n",
       "4  will we join the left to take america backward...\n",
       "5  lydia stands for quality schools more jobs and...\n",
       "6  states are passing laws to silence voters fede...\n",
       "7  this campaign is about what we can achieve whe...\n",
       "8  shawn lassiter is a former stem educator and a...\n",
       "9  gov abbott does not stand with texas women he ..."
      ]
     },
     "execution_count": 25,
     "metadata": {},
     "output_type": "execute_result"
    }
   ],
   "source": [
    "df_texas.head(10)"
   ]
  },
  {
   "cell_type": "markdown",
   "id": "97b7bf49",
   "metadata": {},
   "source": [
    "# Tag the text with Spacy"
   ]
  },
  {
   "cell_type": "code",
   "execution_count": 28,
   "id": "0cc910d7",
   "metadata": {},
   "outputs": [
    {
     "ename": "JSONDecodeError",
     "evalue": "Expecting ',' delimiter: line 374 column 9 (char 9053)",
     "output_type": "error",
     "traceback": [
      "\u001b[0;31m---------------------------------------------------------------------------\u001b[0m",
      "\u001b[0;31mJSONDecodeError\u001b[0m                           Traceback (most recent call last)",
      "Input \u001b[0;32mIn [28]\u001b[0m, in \u001b[0;36m<module>\u001b[0;34m\u001b[0m\n\u001b[1;32m      1\u001b[0m \u001b[38;5;66;03m# import the Lexicon\u001b[39;00m\n\u001b[1;32m      2\u001b[0m \u001b[38;5;28;01mwith\u001b[39;00m \u001b[38;5;28mopen\u001b[39m (\u001b[38;5;124m'\u001b[39m\u001b[38;5;124mlexicon.json\u001b[39m\u001b[38;5;124m'\u001b[39m) \u001b[38;5;28;01mas\u001b[39;00m f1:\n\u001b[0;32m----> 3\u001b[0m     dic1 \u001b[38;5;241m=\u001b[39m \u001b[43mjson\u001b[49m\u001b[38;5;241;43m.\u001b[39;49m\u001b[43mload\u001b[49m\u001b[43m(\u001b[49m\u001b[43mf1\u001b[49m\u001b[43m)\u001b[49m\n\u001b[1;32m      4\u001b[0m \u001b[38;5;66;03m# check the keys\u001b[39;00m\n\u001b[1;32m      5\u001b[0m dic1\u001b[38;5;241m.\u001b[39mkeys()\n",
      "File \u001b[0;32m/usr/local/Cellar/python@3.9/3.9.10/Frameworks/Python.framework/Versions/3.9/lib/python3.9/json/__init__.py:293\u001b[0m, in \u001b[0;36mload\u001b[0;34m(fp, cls, object_hook, parse_float, parse_int, parse_constant, object_pairs_hook, **kw)\u001b[0m\n\u001b[1;32m    274\u001b[0m \u001b[38;5;28;01mdef\u001b[39;00m \u001b[38;5;21mload\u001b[39m(fp, \u001b[38;5;241m*\u001b[39m, \u001b[38;5;28mcls\u001b[39m\u001b[38;5;241m=\u001b[39m\u001b[38;5;28;01mNone\u001b[39;00m, object_hook\u001b[38;5;241m=\u001b[39m\u001b[38;5;28;01mNone\u001b[39;00m, parse_float\u001b[38;5;241m=\u001b[39m\u001b[38;5;28;01mNone\u001b[39;00m,\n\u001b[1;32m    275\u001b[0m         parse_int\u001b[38;5;241m=\u001b[39m\u001b[38;5;28;01mNone\u001b[39;00m, parse_constant\u001b[38;5;241m=\u001b[39m\u001b[38;5;28;01mNone\u001b[39;00m, object_pairs_hook\u001b[38;5;241m=\u001b[39m\u001b[38;5;28;01mNone\u001b[39;00m, \u001b[38;5;241m*\u001b[39m\u001b[38;5;241m*\u001b[39mkw):\n\u001b[1;32m    276\u001b[0m     \u001b[38;5;124;03m\"\"\"Deserialize ``fp`` (a ``.read()``-supporting file-like object containing\u001b[39;00m\n\u001b[1;32m    277\u001b[0m \u001b[38;5;124;03m    a JSON document) to a Python object.\u001b[39;00m\n\u001b[1;32m    278\u001b[0m \n\u001b[0;32m   (...)\u001b[0m\n\u001b[1;32m    291\u001b[0m \u001b[38;5;124;03m    kwarg; otherwise ``JSONDecoder`` is used.\u001b[39;00m\n\u001b[1;32m    292\u001b[0m \u001b[38;5;124;03m    \"\"\"\u001b[39;00m\n\u001b[0;32m--> 293\u001b[0m     \u001b[38;5;28;01mreturn\u001b[39;00m \u001b[43mloads\u001b[49m\u001b[43m(\u001b[49m\u001b[43mfp\u001b[49m\u001b[38;5;241;43m.\u001b[39;49m\u001b[43mread\u001b[49m\u001b[43m(\u001b[49m\u001b[43m)\u001b[49m\u001b[43m,\u001b[49m\n\u001b[1;32m    294\u001b[0m \u001b[43m        \u001b[49m\u001b[38;5;28;43mcls\u001b[39;49m\u001b[38;5;241;43m=\u001b[39;49m\u001b[38;5;28;43mcls\u001b[39;49m\u001b[43m,\u001b[49m\u001b[43m \u001b[49m\u001b[43mobject_hook\u001b[49m\u001b[38;5;241;43m=\u001b[39;49m\u001b[43mobject_hook\u001b[49m\u001b[43m,\u001b[49m\n\u001b[1;32m    295\u001b[0m \u001b[43m        \u001b[49m\u001b[43mparse_float\u001b[49m\u001b[38;5;241;43m=\u001b[39;49m\u001b[43mparse_float\u001b[49m\u001b[43m,\u001b[49m\u001b[43m \u001b[49m\u001b[43mparse_int\u001b[49m\u001b[38;5;241;43m=\u001b[39;49m\u001b[43mparse_int\u001b[49m\u001b[43m,\u001b[49m\n\u001b[1;32m    296\u001b[0m \u001b[43m        \u001b[49m\u001b[43mparse_constant\u001b[49m\u001b[38;5;241;43m=\u001b[39;49m\u001b[43mparse_constant\u001b[49m\u001b[43m,\u001b[49m\u001b[43m \u001b[49m\u001b[43mobject_pairs_hook\u001b[49m\u001b[38;5;241;43m=\u001b[39;49m\u001b[43mobject_pairs_hook\u001b[49m\u001b[43m,\u001b[49m\u001b[43m \u001b[49m\u001b[38;5;241;43m*\u001b[39;49m\u001b[38;5;241;43m*\u001b[39;49m\u001b[43mkw\u001b[49m\u001b[43m)\u001b[49m\n",
      "File \u001b[0;32m/usr/local/Cellar/python@3.9/3.9.10/Frameworks/Python.framework/Versions/3.9/lib/python3.9/json/__init__.py:346\u001b[0m, in \u001b[0;36mloads\u001b[0;34m(s, cls, object_hook, parse_float, parse_int, parse_constant, object_pairs_hook, **kw)\u001b[0m\n\u001b[1;32m    341\u001b[0m     s \u001b[38;5;241m=\u001b[39m s\u001b[38;5;241m.\u001b[39mdecode(detect_encoding(s), \u001b[38;5;124m'\u001b[39m\u001b[38;5;124msurrogatepass\u001b[39m\u001b[38;5;124m'\u001b[39m)\n\u001b[1;32m    343\u001b[0m \u001b[38;5;28;01mif\u001b[39;00m (\u001b[38;5;28mcls\u001b[39m \u001b[38;5;129;01mis\u001b[39;00m \u001b[38;5;28;01mNone\u001b[39;00m \u001b[38;5;129;01mand\u001b[39;00m object_hook \u001b[38;5;129;01mis\u001b[39;00m \u001b[38;5;28;01mNone\u001b[39;00m \u001b[38;5;129;01mand\u001b[39;00m\n\u001b[1;32m    344\u001b[0m         parse_int \u001b[38;5;129;01mis\u001b[39;00m \u001b[38;5;28;01mNone\u001b[39;00m \u001b[38;5;129;01mand\u001b[39;00m parse_float \u001b[38;5;129;01mis\u001b[39;00m \u001b[38;5;28;01mNone\u001b[39;00m \u001b[38;5;129;01mand\u001b[39;00m\n\u001b[1;32m    345\u001b[0m         parse_constant \u001b[38;5;129;01mis\u001b[39;00m \u001b[38;5;28;01mNone\u001b[39;00m \u001b[38;5;129;01mand\u001b[39;00m object_pairs_hook \u001b[38;5;129;01mis\u001b[39;00m \u001b[38;5;28;01mNone\u001b[39;00m \u001b[38;5;129;01mand\u001b[39;00m \u001b[38;5;129;01mnot\u001b[39;00m kw):\n\u001b[0;32m--> 346\u001b[0m     \u001b[38;5;28;01mreturn\u001b[39;00m \u001b[43m_default_decoder\u001b[49m\u001b[38;5;241;43m.\u001b[39;49m\u001b[43mdecode\u001b[49m\u001b[43m(\u001b[49m\u001b[43ms\u001b[49m\u001b[43m)\u001b[49m\n\u001b[1;32m    347\u001b[0m \u001b[38;5;28;01mif\u001b[39;00m \u001b[38;5;28mcls\u001b[39m \u001b[38;5;129;01mis\u001b[39;00m \u001b[38;5;28;01mNone\u001b[39;00m:\n\u001b[1;32m    348\u001b[0m     \u001b[38;5;28mcls\u001b[39m \u001b[38;5;241m=\u001b[39m JSONDecoder\n",
      "File \u001b[0;32m/usr/local/Cellar/python@3.9/3.9.10/Frameworks/Python.framework/Versions/3.9/lib/python3.9/json/decoder.py:337\u001b[0m, in \u001b[0;36mJSONDecoder.decode\u001b[0;34m(self, s, _w)\u001b[0m\n\u001b[1;32m    332\u001b[0m \u001b[38;5;28;01mdef\u001b[39;00m \u001b[38;5;21mdecode\u001b[39m(\u001b[38;5;28mself\u001b[39m, s, _w\u001b[38;5;241m=\u001b[39mWHITESPACE\u001b[38;5;241m.\u001b[39mmatch):\n\u001b[1;32m    333\u001b[0m     \u001b[38;5;124;03m\"\"\"Return the Python representation of ``s`` (a ``str`` instance\u001b[39;00m\n\u001b[1;32m    334\u001b[0m \u001b[38;5;124;03m    containing a JSON document).\u001b[39;00m\n\u001b[1;32m    335\u001b[0m \n\u001b[1;32m    336\u001b[0m \u001b[38;5;124;03m    \"\"\"\u001b[39;00m\n\u001b[0;32m--> 337\u001b[0m     obj, end \u001b[38;5;241m=\u001b[39m \u001b[38;5;28;43mself\u001b[39;49m\u001b[38;5;241;43m.\u001b[39;49m\u001b[43mraw_decode\u001b[49m\u001b[43m(\u001b[49m\u001b[43ms\u001b[49m\u001b[43m,\u001b[49m\u001b[43m \u001b[49m\u001b[43midx\u001b[49m\u001b[38;5;241;43m=\u001b[39;49m\u001b[43m_w\u001b[49m\u001b[43m(\u001b[49m\u001b[43ms\u001b[49m\u001b[43m,\u001b[49m\u001b[43m \u001b[49m\u001b[38;5;241;43m0\u001b[39;49m\u001b[43m)\u001b[49m\u001b[38;5;241;43m.\u001b[39;49m\u001b[43mend\u001b[49m\u001b[43m(\u001b[49m\u001b[43m)\u001b[49m\u001b[43m)\u001b[49m\n\u001b[1;32m    338\u001b[0m     end \u001b[38;5;241m=\u001b[39m _w(s, end)\u001b[38;5;241m.\u001b[39mend()\n\u001b[1;32m    339\u001b[0m     \u001b[38;5;28;01mif\u001b[39;00m end \u001b[38;5;241m!=\u001b[39m \u001b[38;5;28mlen\u001b[39m(s):\n",
      "File \u001b[0;32m/usr/local/Cellar/python@3.9/3.9.10/Frameworks/Python.framework/Versions/3.9/lib/python3.9/json/decoder.py:353\u001b[0m, in \u001b[0;36mJSONDecoder.raw_decode\u001b[0;34m(self, s, idx)\u001b[0m\n\u001b[1;32m    344\u001b[0m \u001b[38;5;124;03m\"\"\"Decode a JSON document from ``s`` (a ``str`` beginning with\u001b[39;00m\n\u001b[1;32m    345\u001b[0m \u001b[38;5;124;03ma JSON document) and return a 2-tuple of the Python\u001b[39;00m\n\u001b[1;32m    346\u001b[0m \u001b[38;5;124;03mrepresentation and the index in ``s`` where the document ended.\u001b[39;00m\n\u001b[0;32m   (...)\u001b[0m\n\u001b[1;32m    350\u001b[0m \n\u001b[1;32m    351\u001b[0m \u001b[38;5;124;03m\"\"\"\u001b[39;00m\n\u001b[1;32m    352\u001b[0m \u001b[38;5;28;01mtry\u001b[39;00m:\n\u001b[0;32m--> 353\u001b[0m     obj, end \u001b[38;5;241m=\u001b[39m \u001b[38;5;28;43mself\u001b[39;49m\u001b[38;5;241;43m.\u001b[39;49m\u001b[43mscan_once\u001b[49m\u001b[43m(\u001b[49m\u001b[43ms\u001b[49m\u001b[43m,\u001b[49m\u001b[43m \u001b[49m\u001b[43midx\u001b[49m\u001b[43m)\u001b[49m\n\u001b[1;32m    354\u001b[0m \u001b[38;5;28;01mexcept\u001b[39;00m \u001b[38;5;167;01mStopIteration\u001b[39;00m \u001b[38;5;28;01mas\u001b[39;00m err:\n\u001b[1;32m    355\u001b[0m     \u001b[38;5;28;01mraise\u001b[39;00m JSONDecodeError(\u001b[38;5;124m\"\u001b[39m\u001b[38;5;124mExpecting value\u001b[39m\u001b[38;5;124m\"\u001b[39m, s, err\u001b[38;5;241m.\u001b[39mvalue) \u001b[38;5;28;01mfrom\u001b[39;00m \u001b[38;5;28mNone\u001b[39m\n",
      "\u001b[0;31mJSONDecodeError\u001b[0m: Expecting ',' delimiter: line 374 column 9 (char 9053)"
     ]
    }
   ],
   "source": [
    "# import the Lexicon\n",
    "with open ('lexicon.json') as f1:\n",
    "    dic1 = json.load(f1)\n",
    "# check the keys\n",
    "dic1.keys()"
   ]
  },
  {
   "cell_type": "code",
   "execution_count": null,
   "id": "a92777c6",
   "metadata": {},
   "outputs": [],
   "source": [
    "# import en_core_web\n",
    "#This only happens to Ying that she couldn't import 'en_core_web_sm' in Jupyter Notebook, so she imports it with the full path\n",
    "nlp = spacy.load(\"/usr/local/Cellar/jupyterlab/3.2.9/libexec/lib/python3.9/site-packages/en_core_web_lg/en_core_web_lg-3.2.0/\")"
   ]
  },
  {
   "cell_type": "code",
   "execution_count": null,
   "id": "a9d519bc",
   "metadata": {},
   "outputs": [],
   "source": [
    "# the function that find the lexicon words in the text\n",
    "def find_words(x,lexicon):\n",
    "    topics= lexicon.keys()  \n",
    "    doc = nlp(x) # nlp() is spaCy 2.2 English language model \n",
    "    words= []\n",
    "    for t in topics:\n",
    "        matcher = PhraseMatcher(nlp.vocab)\n",
    "        terms= lexicon[t]\n",
    "        patterns = [nlp.make_doc(text) for text in terms]\n",
    "        matcher.add(\"TerminologyList\", patterns) # spaCy2.2 phrase matcher\n",
    "        matches = matcher(doc)\n",
    "        for match_id, start,end in matches:\n",
    "            span = doc[start:end]\n",
    "            words.append(span.text)\n",
    "    if words:\n",
    "        words = list(set(words))\n",
    "        return ','.join(words)\n",
    "    else:\n",
    "        return('no words')"
   ]
  },
  {
   "cell_type": "code",
   "execution_count": null,
   "id": "dd2bc8ca",
   "metadata": {},
   "outputs": [],
   "source": [
    "# tagging the topic in each message\n",
    "def find_topic(x,lexicon):\n",
    "    topics= lexicon.keys()    \n",
    "    if x=='no words':\n",
    "        return ''    \n",
    "    if x != 'no words': \n",
    "        words = x.split(',')\n",
    "        labels = []        \n",
    "        for t in topics:            \n",
    "            terms = lexicon[t]\n",
    "            if set(words)&set(terms):\n",
    "                labels.append(t)                \n",
    "                #l = sorted(labels)        \n",
    "        return  ','.join(sorted(labels))\n",
    "                \n",
    "        #return ','.join(labels)\n",
    "            "
   ]
  },
  {
   "cell_type": "code",
   "execution_count": null,
   "id": "2401130a",
   "metadata": {},
   "outputs": [],
   "source": [
    "df_texas['words'] = df_texas['text'].astype(str).apply(lambda x: find_words(x,dic1))"
   ]
  },
  {
   "cell_type": "code",
   "execution_count": null,
   "id": "91d19743",
   "metadata": {},
   "outputs": [],
   "source": [
    "df_texas['m_label'] = df_texas['words'].apply(lambda x: find_topic(x,dic1))"
   ]
  },
  {
   "cell_type": "code",
   "execution_count": null,
   "id": "42413e42",
   "metadata": {},
   "outputs": [],
   "source": [
    "df_texas['m_label'] = df_texas['m_label'].apply(lambda x: 'no topic' if x=='' else x)"
   ]
  },
  {
   "cell_type": "code",
   "execution_count": null,
   "id": "4dfa3086",
   "metadata": {},
   "outputs": [],
   "source": [
    "df_texas.to_csv('texas_ads_tags.csv')"
   ]
  },
  {
   "cell_type": "code",
   "execution_count": null,
   "id": "34c244d7",
   "metadata": {},
   "outputs": [],
   "source": [
    "df_texas[df_texas['m_label'] == 'immigration'].to_csv('immigration.csv')"
   ]
  },
  {
   "cell_type": "code",
   "execution_count": null,
   "id": "3291b0e4",
   "metadata": {},
   "outputs": [],
   "source": [
    "pd.set_option('display.max_colwidth', None)"
   ]
  },
  {
   "cell_type": "code",
   "execution_count": null,
   "id": "7d9ed36b",
   "metadata": {},
   "outputs": [],
   "source": [
    "df_texas[df_texas['m_label'] == 'no topic']"
   ]
  },
  {
   "cell_type": "code",
   "execution_count": null,
   "id": "8d247ceb",
   "metadata": {},
   "outputs": [],
   "source": [
    "# check each tags\n",
    "df_texas['m_label'].value_counts()"
   ]
  },
  {
   "cell_type": "code",
   "execution_count": null,
   "id": "8d72d60e",
   "metadata": {},
   "outputs": [],
   "source": [
    "# check words\n",
    "df_texas['words'].value_counts()"
   ]
  },
  {
   "cell_type": "code",
   "execution_count": null,
   "id": "5b408635",
   "metadata": {},
   "outputs": [],
   "source": []
  }
 ],
 "metadata": {
  "kernelspec": {
   "display_name": "Python 3 (ipykernel)",
   "language": "python",
   "name": "python3"
  },
  "language_info": {
   "codemirror_mode": {
    "name": "ipython",
    "version": 3
   },
   "file_extension": ".py",
   "mimetype": "text/x-python",
   "name": "python",
   "nbconvert_exporter": "python",
   "pygments_lexer": "ipython3",
   "version": "3.9.10"
  }
 },
 "nbformat": 4,
 "nbformat_minor": 5
}
